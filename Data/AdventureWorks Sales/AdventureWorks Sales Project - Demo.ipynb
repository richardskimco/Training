{
  "nbformat": 4,
  "nbformat_minor": 0,
  "metadata": {
    "colab": {
      "provenance": [],
      "toc_visible": true,
      "authorship_tag": "ABX9TyPIAG9mbV6UuxDnMZ8/WB7O",
      "include_colab_link": true
    },
    "kernelspec": {
      "name": "python3",
      "display_name": "Python 3"
    },
    "language_info": {
      "name": "python"
    }
  },
  "cells": [
    {
      "cell_type": "markdown",
      "metadata": {
        "id": "view-in-github",
        "colab_type": "text"
      },
      "source": [
        "<a href=\"https://colab.research.google.com/github/richardskimco/Training/blob/main/Data/AdventureWorks%20Sales/AdventureWorks%20Sales%20Project%20-%20Demo.ipynb\" target=\"_parent\"><img src=\"https://colab.research.google.com/assets/colab-badge.svg\" alt=\"Open In Colab\"/></a>"
      ]
    },
    {
      "cell_type": "markdown",
      "source": [
        "# Setup"
      ],
      "metadata": {
        "id": "fUQAPhPGq0Aa"
      }
    },
    {
      "cell_type": "code",
      "execution_count": null,
      "metadata": {
        "id": "kom0QsNpNFKj",
        "cellView": "form"
      },
      "outputs": [],
      "source": [
        "# @title Download database {\"vertical-output\":true}\n",
        "\n",
        "!wget = \"https://github.com/richardskimco/Training/raw/main/Data/AdventureWorks%20Sales/AdventureWorks_Sales.db\""
      ]
    },
    {
      "cell_type": "code",
      "source": [
        "# @title Load SQL extension {\"vertical-output\":true}\n",
        "\n",
        "%load_ext sql"
      ],
      "metadata": {
        "id": "gsNWibKdh00J",
        "cellView": "form"
      },
      "execution_count": null,
      "outputs": []
    },
    {
      "cell_type": "code",
      "source": [
        "# @title Set database {\"vertical-output\":true}\n",
        "\n",
        "%sql sqlite:///AdventureWorks_Sales.db"
      ],
      "metadata": {
        "id": "pasdXaMyh3Dw",
        "cellView": "form"
      },
      "execution_count": null,
      "outputs": []
    },
    {
      "cell_type": "markdown",
      "source": [
        "# Explore"
      ],
      "metadata": {
        "id": "Dlyc8k2ihuKi"
      }
    },
    {
      "cell_type": "code",
      "source": [
        "# @title Explore tables {\"vertical-output\":true}\n",
        "\n",
        "%%sql\n",
        "SELECT\n",
        "name\n",
        "FROM\n",
        "sqlite_master\n",
        "WHERE\n",
        "TYPE = \"table\"\n",
        "LIMIT 10"
      ],
      "metadata": {
        "id": "fW0qvlUmobwT",
        "colab": {
          "base_uri": "https://localhost:8080/",
          "height": 224
        },
        "collapsed": true,
        "cellView": "form",
        "outputId": "5752f481-0edd-4582-83f3-58591eeed7ec"
      },
      "execution_count": null,
      "outputs": [
        {
          "output_type": "stream",
          "name": "stdout",
          "text": [
            " * sqlite:///AdventureWorks_Sales.db\n",
            "Done.\n"
          ]
        },
        {
          "output_type": "execute_result",
          "data": {
            "text/plain": [
              "[('Customer',),\n",
              " ('Date',),\n",
              " ('Product',),\n",
              " ('Reseller',),\n",
              " ('Sales',),\n",
              " ('Sales_Order',),\n",
              " ('Sales_Territory',)]"
            ],
            "text/html": [
              "<table>\n",
              "    <thead>\n",
              "        <tr>\n",
              "            <th>name</th>\n",
              "        </tr>\n",
              "    </thead>\n",
              "    <tbody>\n",
              "        <tr>\n",
              "            <td>Customer</td>\n",
              "        </tr>\n",
              "        <tr>\n",
              "            <td>Date</td>\n",
              "        </tr>\n",
              "        <tr>\n",
              "            <td>Product</td>\n",
              "        </tr>\n",
              "        <tr>\n",
              "            <td>Reseller</td>\n",
              "        </tr>\n",
              "        <tr>\n",
              "            <td>Sales</td>\n",
              "        </tr>\n",
              "        <tr>\n",
              "            <td>Sales_Order</td>\n",
              "        </tr>\n",
              "        <tr>\n",
              "            <td>Sales_Territory</td>\n",
              "        </tr>\n",
              "    </tbody>\n",
              "</table>"
            ]
          },
          "metadata": {},
          "execution_count": 13
        }
      ]
    },
    {
      "cell_type": "code",
      "source": [
        "# @title Explore columns {\"vertical-output\":true}\n",
        "\n",
        "%%sql\n",
        "SELECT\n",
        "*\n",
        "FROM\n",
        "Sales\n",
        "LIMIT 10"
      ],
      "metadata": {
        "id": "dAoKf9BfiM4Q",
        "colab": {
          "base_uri": "https://localhost:8080/",
          "height": 308
        },
        "collapsed": true,
        "cellView": "form",
        "outputId": "c51ce79e-a33a-4fe5-c81d-6e0e7d1fac35"
      },
      "execution_count": null,
      "outputs": [
        {
          "output_type": "stream",
          "name": "stdout",
          "text": [
            " * sqlite:///AdventureWorks_Sales.db\n",
            "Done.\n"
          ]
        },
        {
          "output_type": "execute_result",
          "data": {
            "text/plain": [
              "[('43659001', '676', '-1', '349', '20170702', '20170712', '20170709', '5', '1', '2024.99', '2024.99', '0', '1898.09', '1898.09', '2024.99'),\n",
              " ('43659002', '676', '-1', '350', '20170702', '20170712', '20170709', '5', '3', '2024.99', '6074.98', '0', '1898.09', '5694.28', '6074.98'),\n",
              " ('43659003', '676', '-1', '351', '20170702', '20170712', '20170709', '5', '1', '2024.99', '2024.99', '0', '1898.09', '1898.09', '2024.99'),\n",
              " ('43659004', '676', '-1', '344', '20170702', '20170712', '20170709', '5', '1', '2039.99', '2039.99', '0', '1912.15', '1912.15', '2039.99'),\n",
              " ('43659005', '676', '-1', '345', '20170702', '20170712', '20170709', '5', '1', '2039.99', '2039.99', '0', '1912.15', '1912.15', '2039.99'),\n",
              " ('43659006', '676', '-1', '346', '20170702', '20170712', '20170709', '5', '2', '2039.99', '4079.99', '0', '1912.15', '3824.31', '4079.99'),\n",
              " ('43659007', '676', '-1', '347', '20170702', '20170712', '20170709', '5', '1', '2039.99', '2039.99', '0', '1912.15', '1912.15', '2039.99'),\n",
              " ('43659008', '676', '-1', '229', '20170702', '20170712', '20170709', '5', '3', '28.84', '86.52', '0', '31.72', '95.17', '86.52'),\n",
              " ('43659009', '676', '-1', '235', '20170702', '20170712', '20170709', '5', '1', '28.84', '28.84', '0', '31.72', '31.72', '28.84'),\n",
              " ('43659010', '676', '-1', '218', '20170702', '20170712', '20170709', '5', '6', '5.7', '34.2', '0', '3.4', '20.38', '34.2')]"
            ],
            "text/html": [
              "<table>\n",
              "    <thead>\n",
              "        <tr>\n",
              "            <th>SalesOrderLineKey</th>\n",
              "            <th>ResellerKey</th>\n",
              "            <th>CustomerKey</th>\n",
              "            <th>ProductKey</th>\n",
              "            <th>OrderDateKey</th>\n",
              "            <th>DueDateKey</th>\n",
              "            <th>ShipDateKey</th>\n",
              "            <th>SalesTerritoryKey</th>\n",
              "            <th>Order_Quantity</th>\n",
              "            <th>Unit_Price</th>\n",
              "            <th>Extended_Amount</th>\n",
              "            <th>Unit_Price_Discount_Pct</th>\n",
              "            <th>Product_Standard_Cost</th>\n",
              "            <th>Total_Product_Cost</th>\n",
              "            <th>Sales_Amount</th>\n",
              "        </tr>\n",
              "    </thead>\n",
              "    <tbody>\n",
              "        <tr>\n",
              "            <td>43659001</td>\n",
              "            <td>676</td>\n",
              "            <td>-1</td>\n",
              "            <td>349</td>\n",
              "            <td>20170702</td>\n",
              "            <td>20170712</td>\n",
              "            <td>20170709</td>\n",
              "            <td>5</td>\n",
              "            <td>1</td>\n",
              "            <td>2024.99</td>\n",
              "            <td>2024.99</td>\n",
              "            <td>0</td>\n",
              "            <td>1898.09</td>\n",
              "            <td>1898.09</td>\n",
              "            <td>2024.99</td>\n",
              "        </tr>\n",
              "        <tr>\n",
              "            <td>43659002</td>\n",
              "            <td>676</td>\n",
              "            <td>-1</td>\n",
              "            <td>350</td>\n",
              "            <td>20170702</td>\n",
              "            <td>20170712</td>\n",
              "            <td>20170709</td>\n",
              "            <td>5</td>\n",
              "            <td>3</td>\n",
              "            <td>2024.99</td>\n",
              "            <td>6074.98</td>\n",
              "            <td>0</td>\n",
              "            <td>1898.09</td>\n",
              "            <td>5694.28</td>\n",
              "            <td>6074.98</td>\n",
              "        </tr>\n",
              "        <tr>\n",
              "            <td>43659003</td>\n",
              "            <td>676</td>\n",
              "            <td>-1</td>\n",
              "            <td>351</td>\n",
              "            <td>20170702</td>\n",
              "            <td>20170712</td>\n",
              "            <td>20170709</td>\n",
              "            <td>5</td>\n",
              "            <td>1</td>\n",
              "            <td>2024.99</td>\n",
              "            <td>2024.99</td>\n",
              "            <td>0</td>\n",
              "            <td>1898.09</td>\n",
              "            <td>1898.09</td>\n",
              "            <td>2024.99</td>\n",
              "        </tr>\n",
              "        <tr>\n",
              "            <td>43659004</td>\n",
              "            <td>676</td>\n",
              "            <td>-1</td>\n",
              "            <td>344</td>\n",
              "            <td>20170702</td>\n",
              "            <td>20170712</td>\n",
              "            <td>20170709</td>\n",
              "            <td>5</td>\n",
              "            <td>1</td>\n",
              "            <td>2039.99</td>\n",
              "            <td>2039.99</td>\n",
              "            <td>0</td>\n",
              "            <td>1912.15</td>\n",
              "            <td>1912.15</td>\n",
              "            <td>2039.99</td>\n",
              "        </tr>\n",
              "        <tr>\n",
              "            <td>43659005</td>\n",
              "            <td>676</td>\n",
              "            <td>-1</td>\n",
              "            <td>345</td>\n",
              "            <td>20170702</td>\n",
              "            <td>20170712</td>\n",
              "            <td>20170709</td>\n",
              "            <td>5</td>\n",
              "            <td>1</td>\n",
              "            <td>2039.99</td>\n",
              "            <td>2039.99</td>\n",
              "            <td>0</td>\n",
              "            <td>1912.15</td>\n",
              "            <td>1912.15</td>\n",
              "            <td>2039.99</td>\n",
              "        </tr>\n",
              "        <tr>\n",
              "            <td>43659006</td>\n",
              "            <td>676</td>\n",
              "            <td>-1</td>\n",
              "            <td>346</td>\n",
              "            <td>20170702</td>\n",
              "            <td>20170712</td>\n",
              "            <td>20170709</td>\n",
              "            <td>5</td>\n",
              "            <td>2</td>\n",
              "            <td>2039.99</td>\n",
              "            <td>4079.99</td>\n",
              "            <td>0</td>\n",
              "            <td>1912.15</td>\n",
              "            <td>3824.31</td>\n",
              "            <td>4079.99</td>\n",
              "        </tr>\n",
              "        <tr>\n",
              "            <td>43659007</td>\n",
              "            <td>676</td>\n",
              "            <td>-1</td>\n",
              "            <td>347</td>\n",
              "            <td>20170702</td>\n",
              "            <td>20170712</td>\n",
              "            <td>20170709</td>\n",
              "            <td>5</td>\n",
              "            <td>1</td>\n",
              "            <td>2039.99</td>\n",
              "            <td>2039.99</td>\n",
              "            <td>0</td>\n",
              "            <td>1912.15</td>\n",
              "            <td>1912.15</td>\n",
              "            <td>2039.99</td>\n",
              "        </tr>\n",
              "        <tr>\n",
              "            <td>43659008</td>\n",
              "            <td>676</td>\n",
              "            <td>-1</td>\n",
              "            <td>229</td>\n",
              "            <td>20170702</td>\n",
              "            <td>20170712</td>\n",
              "            <td>20170709</td>\n",
              "            <td>5</td>\n",
              "            <td>3</td>\n",
              "            <td>28.84</td>\n",
              "            <td>86.52</td>\n",
              "            <td>0</td>\n",
              "            <td>31.72</td>\n",
              "            <td>95.17</td>\n",
              "            <td>86.52</td>\n",
              "        </tr>\n",
              "        <tr>\n",
              "            <td>43659009</td>\n",
              "            <td>676</td>\n",
              "            <td>-1</td>\n",
              "            <td>235</td>\n",
              "            <td>20170702</td>\n",
              "            <td>20170712</td>\n",
              "            <td>20170709</td>\n",
              "            <td>5</td>\n",
              "            <td>1</td>\n",
              "            <td>28.84</td>\n",
              "            <td>28.84</td>\n",
              "            <td>0</td>\n",
              "            <td>31.72</td>\n",
              "            <td>31.72</td>\n",
              "            <td>28.84</td>\n",
              "        </tr>\n",
              "        <tr>\n",
              "            <td>43659010</td>\n",
              "            <td>676</td>\n",
              "            <td>-1</td>\n",
              "            <td>218</td>\n",
              "            <td>20170702</td>\n",
              "            <td>20170712</td>\n",
              "            <td>20170709</td>\n",
              "            <td>5</td>\n",
              "            <td>6</td>\n",
              "            <td>5.7</td>\n",
              "            <td>34.2</td>\n",
              "            <td>0</td>\n",
              "            <td>3.4</td>\n",
              "            <td>20.38</td>\n",
              "            <td>34.2</td>\n",
              "        </tr>\n",
              "    </tbody>\n",
              "</table>"
            ]
          },
          "metadata": {},
          "execution_count": 14
        }
      ]
    },
    {
      "cell_type": "markdown",
      "source": [
        "# Module 1"
      ],
      "metadata": {
        "id": "4RdH4_2Urpmx"
      }
    },
    {
      "cell_type": "markdown",
      "source": [
        "## 1) SELECT"
      ],
      "metadata": {
        "id": "qTUW6hjKrtiC"
      }
    },
    {
      "cell_type": "code",
      "source": [
        "# @title a. Get all data from the Customer table. {\"vertical-output\":true}\n",
        "\n",
        "%%sql\n",
        "SELECT\n",
        "*\n",
        "FROM\n",
        "Customer AS c\n",
        "LIMIT 10"
      ],
      "metadata": {
        "collapsed": true,
        "cellView": "form",
        "id": "8bhqBcPWryT6",
        "colab": {
          "base_uri": "https://localhost:8080/",
          "height": 288
        },
        "outputId": "0febf1cd-8e5d-4ae9-b116-3cb2c0e3e41e"
      },
      "execution_count": null,
      "outputs": [
        {
          "output_type": "stream",
          "name": "stdout",
          "text": [
            " * sqlite:///AdventureWorks_Sales.db\n",
            "Done.\n"
          ]
        },
        {
          "output_type": "execute_result",
          "data": {
            "text/plain": [
              "[('-1', '[Not Applicable]', '[Not Applicable]', '[Not Applicable]', '[Not Applicable]', '[Not Applicable]', '[Not Applicable]'),\n",
              " ('11000', 'AW00011000', 'Jon Yang', 'Rockhampton', 'Queensland', 'Australia', '4700'),\n",
              " ('11001', 'AW00011001', 'Eugene Huang', 'Seaford', 'Victoria', 'Australia', '3198'),\n",
              " ('11002', 'AW00011002', 'Ruben Torres', 'Hobart', 'Tasmania', 'Australia', '7001'),\n",
              " ('11003', 'AW00011003', 'Christy Zhu', 'North Ryde', 'New South Wales', 'Australia', '2113'),\n",
              " ('11004', 'AW00011004', 'Elizabeth Johnson', 'Wollongong', 'New South Wales', 'Australia', '2500'),\n",
              " ('11005', 'AW00011005', 'Julio Ruiz', 'East Brisbane', 'Queensland', 'Australia', '4169'),\n",
              " ('11006', 'AW00011006', 'Janet Alvarez', 'Matraville', 'New South Wales', 'Australia', '2036'),\n",
              " ('11007', 'AW00011007', 'Marco Mehta', 'Warrnambool', 'Victoria', 'Australia', '3280'),\n",
              " ('11008', 'AW00011008', 'Rob Verhoff', 'Bendigo', 'Victoria', 'Australia', '3550')]"
            ],
            "text/html": [
              "<table>\n",
              "    <thead>\n",
              "        <tr>\n",
              "            <th>CustomerKey</th>\n",
              "            <th>Customer_ID</th>\n",
              "            <th>Customer</th>\n",
              "            <th>City</th>\n",
              "            <th>State_Province</th>\n",
              "            <th>Country_Region</th>\n",
              "            <th>Postal_Code</th>\n",
              "        </tr>\n",
              "    </thead>\n",
              "    <tbody>\n",
              "        <tr>\n",
              "            <td>-1</td>\n",
              "            <td>[Not Applicable]</td>\n",
              "            <td>[Not Applicable]</td>\n",
              "            <td>[Not Applicable]</td>\n",
              "            <td>[Not Applicable]</td>\n",
              "            <td>[Not Applicable]</td>\n",
              "            <td>[Not Applicable]</td>\n",
              "        </tr>\n",
              "        <tr>\n",
              "            <td>11000</td>\n",
              "            <td>AW00011000</td>\n",
              "            <td>Jon Yang</td>\n",
              "            <td>Rockhampton</td>\n",
              "            <td>Queensland</td>\n",
              "            <td>Australia</td>\n",
              "            <td>4700</td>\n",
              "        </tr>\n",
              "        <tr>\n",
              "            <td>11001</td>\n",
              "            <td>AW00011001</td>\n",
              "            <td>Eugene Huang</td>\n",
              "            <td>Seaford</td>\n",
              "            <td>Victoria</td>\n",
              "            <td>Australia</td>\n",
              "            <td>3198</td>\n",
              "        </tr>\n",
              "        <tr>\n",
              "            <td>11002</td>\n",
              "            <td>AW00011002</td>\n",
              "            <td>Ruben Torres</td>\n",
              "            <td>Hobart</td>\n",
              "            <td>Tasmania</td>\n",
              "            <td>Australia</td>\n",
              "            <td>7001</td>\n",
              "        </tr>\n",
              "        <tr>\n",
              "            <td>11003</td>\n",
              "            <td>AW00011003</td>\n",
              "            <td>Christy Zhu</td>\n",
              "            <td>North Ryde</td>\n",
              "            <td>New South Wales</td>\n",
              "            <td>Australia</td>\n",
              "            <td>2113</td>\n",
              "        </tr>\n",
              "        <tr>\n",
              "            <td>11004</td>\n",
              "            <td>AW00011004</td>\n",
              "            <td>Elizabeth Johnson</td>\n",
              "            <td>Wollongong</td>\n",
              "            <td>New South Wales</td>\n",
              "            <td>Australia</td>\n",
              "            <td>2500</td>\n",
              "        </tr>\n",
              "        <tr>\n",
              "            <td>11005</td>\n",
              "            <td>AW00011005</td>\n",
              "            <td>Julio Ruiz</td>\n",
              "            <td>East Brisbane</td>\n",
              "            <td>Queensland</td>\n",
              "            <td>Australia</td>\n",
              "            <td>4169</td>\n",
              "        </tr>\n",
              "        <tr>\n",
              "            <td>11006</td>\n",
              "            <td>AW00011006</td>\n",
              "            <td>Janet Alvarez</td>\n",
              "            <td>Matraville</td>\n",
              "            <td>New South Wales</td>\n",
              "            <td>Australia</td>\n",
              "            <td>2036</td>\n",
              "        </tr>\n",
              "        <tr>\n",
              "            <td>11007</td>\n",
              "            <td>AW00011007</td>\n",
              "            <td>Marco Mehta</td>\n",
              "            <td>Warrnambool</td>\n",
              "            <td>Victoria</td>\n",
              "            <td>Australia</td>\n",
              "            <td>3280</td>\n",
              "        </tr>\n",
              "        <tr>\n",
              "            <td>11008</td>\n",
              "            <td>AW00011008</td>\n",
              "            <td>Rob Verhoff</td>\n",
              "            <td>Bendigo</td>\n",
              "            <td>Victoria</td>\n",
              "            <td>Australia</td>\n",
              "            <td>3550</td>\n",
              "        </tr>\n",
              "    </tbody>\n",
              "</table>"
            ]
          },
          "metadata": {},
          "execution_count": 15
        }
      ]
    },
    {
      "cell_type": "code",
      "source": [
        "# @title b. Get the CustomerKey and Customer columns from the Customer table. {\"vertical-output\":true}\n",
        "\n",
        "%%sql\n",
        "SELECT\n",
        "c.CustomerKey\n",
        ", c.Customer\n",
        "FROM\n",
        "Customer AS c\n",
        "LIMIT 10"
      ],
      "metadata": {
        "collapsed": true,
        "cellView": "form",
        "id": "HuFxPAM3r7Rp",
        "colab": {
          "base_uri": "https://localhost:8080/",
          "height": 288
        },
        "outputId": "7af0b72b-89e8-4860-8b9e-233b4188464c"
      },
      "execution_count": null,
      "outputs": [
        {
          "output_type": "stream",
          "name": "stdout",
          "text": [
            " * sqlite:///AdventureWorks_Sales.db\n",
            "Done.\n"
          ]
        },
        {
          "output_type": "execute_result",
          "data": {
            "text/plain": [
              "[('-1', '[Not Applicable]'),\n",
              " ('11000', 'Jon Yang'),\n",
              " ('11001', 'Eugene Huang'),\n",
              " ('11002', 'Ruben Torres'),\n",
              " ('11003', 'Christy Zhu'),\n",
              " ('11004', 'Elizabeth Johnson'),\n",
              " ('11005', 'Julio Ruiz'),\n",
              " ('11006', 'Janet Alvarez'),\n",
              " ('11007', 'Marco Mehta'),\n",
              " ('11008', 'Rob Verhoff')]"
            ],
            "text/html": [
              "<table>\n",
              "    <thead>\n",
              "        <tr>\n",
              "            <th>CustomerKey</th>\n",
              "            <th>Customer</th>\n",
              "        </tr>\n",
              "    </thead>\n",
              "    <tbody>\n",
              "        <tr>\n",
              "            <td>-1</td>\n",
              "            <td>[Not Applicable]</td>\n",
              "        </tr>\n",
              "        <tr>\n",
              "            <td>11000</td>\n",
              "            <td>Jon Yang</td>\n",
              "        </tr>\n",
              "        <tr>\n",
              "            <td>11001</td>\n",
              "            <td>Eugene Huang</td>\n",
              "        </tr>\n",
              "        <tr>\n",
              "            <td>11002</td>\n",
              "            <td>Ruben Torres</td>\n",
              "        </tr>\n",
              "        <tr>\n",
              "            <td>11003</td>\n",
              "            <td>Christy Zhu</td>\n",
              "        </tr>\n",
              "        <tr>\n",
              "            <td>11004</td>\n",
              "            <td>Elizabeth Johnson</td>\n",
              "        </tr>\n",
              "        <tr>\n",
              "            <td>11005</td>\n",
              "            <td>Julio Ruiz</td>\n",
              "        </tr>\n",
              "        <tr>\n",
              "            <td>11006</td>\n",
              "            <td>Janet Alvarez</td>\n",
              "        </tr>\n",
              "        <tr>\n",
              "            <td>11007</td>\n",
              "            <td>Marco Mehta</td>\n",
              "        </tr>\n",
              "        <tr>\n",
              "            <td>11008</td>\n",
              "            <td>Rob Verhoff</td>\n",
              "        </tr>\n",
              "    </tbody>\n",
              "</table>"
            ]
          },
          "metadata": {},
          "execution_count": 16
        }
      ]
    },
    {
      "cell_type": "code",
      "source": [
        "# @title c. Get the first 10 rows of the CustomerKey and Customer columns from the Customer table. {\"vertical-output\":true}\n",
        "\n",
        "%%sql\n",
        "SELECT\n",
        "c.CustomerKey\n",
        ", c.Customer\n",
        "FROM\n",
        "Customer AS c\n",
        "LIMIT 10"
      ],
      "metadata": {
        "id": "nN9LU73KfzAn",
        "colab": {
          "base_uri": "https://localhost:8080/",
          "height": 288
        },
        "outputId": "880ddd8c-7873-4e26-c1f9-a21e30616808",
        "cellView": "form",
        "collapsed": true
      },
      "execution_count": null,
      "outputs": [
        {
          "output_type": "stream",
          "name": "stdout",
          "text": [
            " * sqlite:///AdventureWorks_Sales.db\n",
            "Done.\n"
          ]
        },
        {
          "output_type": "execute_result",
          "data": {
            "text/plain": [
              "[('-1', '[Not Applicable]'),\n",
              " ('11000', 'Jon Yang'),\n",
              " ('11001', 'Eugene Huang'),\n",
              " ('11002', 'Ruben Torres'),\n",
              " ('11003', 'Christy Zhu'),\n",
              " ('11004', 'Elizabeth Johnson'),\n",
              " ('11005', 'Julio Ruiz'),\n",
              " ('11006', 'Janet Alvarez'),\n",
              " ('11007', 'Marco Mehta'),\n",
              " ('11008', 'Rob Verhoff')]"
            ],
            "text/html": [
              "<table>\n",
              "    <thead>\n",
              "        <tr>\n",
              "            <th>CustomerKey</th>\n",
              "            <th>Customer</th>\n",
              "        </tr>\n",
              "    </thead>\n",
              "    <tbody>\n",
              "        <tr>\n",
              "            <td>-1</td>\n",
              "            <td>[Not Applicable]</td>\n",
              "        </tr>\n",
              "        <tr>\n",
              "            <td>11000</td>\n",
              "            <td>Jon Yang</td>\n",
              "        </tr>\n",
              "        <tr>\n",
              "            <td>11001</td>\n",
              "            <td>Eugene Huang</td>\n",
              "        </tr>\n",
              "        <tr>\n",
              "            <td>11002</td>\n",
              "            <td>Ruben Torres</td>\n",
              "        </tr>\n",
              "        <tr>\n",
              "            <td>11003</td>\n",
              "            <td>Christy Zhu</td>\n",
              "        </tr>\n",
              "        <tr>\n",
              "            <td>11004</td>\n",
              "            <td>Elizabeth Johnson</td>\n",
              "        </tr>\n",
              "        <tr>\n",
              "            <td>11005</td>\n",
              "            <td>Julio Ruiz</td>\n",
              "        </tr>\n",
              "        <tr>\n",
              "            <td>11006</td>\n",
              "            <td>Janet Alvarez</td>\n",
              "        </tr>\n",
              "        <tr>\n",
              "            <td>11007</td>\n",
              "            <td>Marco Mehta</td>\n",
              "        </tr>\n",
              "        <tr>\n",
              "            <td>11008</td>\n",
              "            <td>Rob Verhoff</td>\n",
              "        </tr>\n",
              "    </tbody>\n",
              "</table>"
            ]
          },
          "metadata": {},
          "execution_count": 17
        }
      ]
    },
    {
      "cell_type": "markdown",
      "source": [
        "## 2) DISTINCT"
      ],
      "metadata": {
        "id": "pcDbFMoxWQFM"
      }
    },
    {
      "cell_type": "code",
      "source": [
        "# @title a. Get a unique list of ProductKeys and Products. {\"vertical-output\":true}\n",
        "\n",
        "%%sql\n",
        "SELECT DISTINCT\n",
        "p.ProductKey\n",
        ", p.Product\n",
        "FROM\n",
        "Product AS p\n",
        "LIMIT 10"
      ],
      "metadata": {
        "cellView": "form",
        "id": "3c1hRFaxdXJ1",
        "colab": {
          "base_uri": "https://localhost:8080/",
          "height": 288
        },
        "collapsed": true,
        "outputId": "f7d77b93-4dfb-405f-c6a1-f3965965dbc0"
      },
      "execution_count": null,
      "outputs": [
        {
          "output_type": "stream",
          "name": "stdout",
          "text": [
            " * sqlite:///AdventureWorks_Sales.db\n",
            "Done.\n"
          ]
        },
        {
          "output_type": "execute_result",
          "data": {
            "text/plain": [
              "[('210', 'HL Road Frame - Black, 58'),\n",
              " ('211', 'HL Road Frame - Red, 58'),\n",
              " ('212', 'Sport-100 Helmet, Red'),\n",
              " ('213', 'Sport-100 Helmet, Red'),\n",
              " ('214', 'Sport-100 Helmet, Red'),\n",
              " ('215', 'Sport-100 Helmet, Black'),\n",
              " ('216', 'Sport-100 Helmet, Black'),\n",
              " ('217', 'Sport-100 Helmet, Black'),\n",
              " ('218', 'Mountain Bike Socks, M'),\n",
              " ('219', 'Mountain Bike Socks, L')]"
            ],
            "text/html": [
              "<table>\n",
              "    <thead>\n",
              "        <tr>\n",
              "            <th>ProductKey</th>\n",
              "            <th>Product</th>\n",
              "        </tr>\n",
              "    </thead>\n",
              "    <tbody>\n",
              "        <tr>\n",
              "            <td>210</td>\n",
              "            <td>HL Road Frame - Black, 58</td>\n",
              "        </tr>\n",
              "        <tr>\n",
              "            <td>211</td>\n",
              "            <td>HL Road Frame - Red, 58</td>\n",
              "        </tr>\n",
              "        <tr>\n",
              "            <td>212</td>\n",
              "            <td>Sport-100 Helmet, Red</td>\n",
              "        </tr>\n",
              "        <tr>\n",
              "            <td>213</td>\n",
              "            <td>Sport-100 Helmet, Red</td>\n",
              "        </tr>\n",
              "        <tr>\n",
              "            <td>214</td>\n",
              "            <td>Sport-100 Helmet, Red</td>\n",
              "        </tr>\n",
              "        <tr>\n",
              "            <td>215</td>\n",
              "            <td>Sport-100 Helmet, Black</td>\n",
              "        </tr>\n",
              "        <tr>\n",
              "            <td>216</td>\n",
              "            <td>Sport-100 Helmet, Black</td>\n",
              "        </tr>\n",
              "        <tr>\n",
              "            <td>217</td>\n",
              "            <td>Sport-100 Helmet, Black</td>\n",
              "        </tr>\n",
              "        <tr>\n",
              "            <td>218</td>\n",
              "            <td>Mountain Bike Socks, M</td>\n",
              "        </tr>\n",
              "        <tr>\n",
              "            <td>219</td>\n",
              "            <td>Mountain Bike Socks, L</td>\n",
              "        </tr>\n",
              "    </tbody>\n",
              "</table>"
            ]
          },
          "metadata": {},
          "execution_count": 18
        }
      ]
    },
    {
      "cell_type": "markdown",
      "source": [
        "## 3) CAST"
      ],
      "metadata": {
        "id": "q0DWvcz9OjBZ"
      }
    },
    {
      "cell_type": "code",
      "source": [
        "# @title a. Get CustomerKey as string data type and Sales_Amount as numeric data type from the Sales table. {\"vertical-output\":true}\n",
        "\n",
        "%%sql\n",
        "SELECT\n",
        "CAST(s.CustomerKey AS STRING) AS CustomerKey_TEXT\n",
        ", CAST(s.Sales_Amount AS NUMERIC) AS Sales_Amount_NUMERIC\n",
        "FROM\n",
        "Sales AS s\n",
        "LIMIT 10"
      ],
      "metadata": {
        "cellView": "form",
        "id": "LXfgzqrnOrWo",
        "colab": {
          "base_uri": "https://localhost:8080/",
          "height": 288
        },
        "collapsed": true,
        "outputId": "2942ed6e-57eb-4c2b-87ae-d27b1298b9f0"
      },
      "execution_count": null,
      "outputs": [
        {
          "output_type": "stream",
          "name": "stdout",
          "text": [
            " * sqlite:///AdventureWorks_Sales.db\n",
            "Done.\n"
          ]
        },
        {
          "output_type": "execute_result",
          "data": {
            "text/plain": [
              "[(-1, 2024.99),\n",
              " (-1, 6074.98),\n",
              " (-1, 2024.99),\n",
              " (-1, 2039.99),\n",
              " (-1, 2039.99),\n",
              " (-1, 4079.99),\n",
              " (-1, 2039.99),\n",
              " (-1, 86.52),\n",
              " (-1, 28.84),\n",
              " (-1, 34.2)]"
            ],
            "text/html": [
              "<table>\n",
              "    <thead>\n",
              "        <tr>\n",
              "            <th>CustomerKey_TEXT</th>\n",
              "            <th>Sales_Amount_NUMERIC</th>\n",
              "        </tr>\n",
              "    </thead>\n",
              "    <tbody>\n",
              "        <tr>\n",
              "            <td>-1</td>\n",
              "            <td>2024.99</td>\n",
              "        </tr>\n",
              "        <tr>\n",
              "            <td>-1</td>\n",
              "            <td>6074.98</td>\n",
              "        </tr>\n",
              "        <tr>\n",
              "            <td>-1</td>\n",
              "            <td>2024.99</td>\n",
              "        </tr>\n",
              "        <tr>\n",
              "            <td>-1</td>\n",
              "            <td>2039.99</td>\n",
              "        </tr>\n",
              "        <tr>\n",
              "            <td>-1</td>\n",
              "            <td>2039.99</td>\n",
              "        </tr>\n",
              "        <tr>\n",
              "            <td>-1</td>\n",
              "            <td>4079.99</td>\n",
              "        </tr>\n",
              "        <tr>\n",
              "            <td>-1</td>\n",
              "            <td>2039.99</td>\n",
              "        </tr>\n",
              "        <tr>\n",
              "            <td>-1</td>\n",
              "            <td>86.52</td>\n",
              "        </tr>\n",
              "        <tr>\n",
              "            <td>-1</td>\n",
              "            <td>28.84</td>\n",
              "        </tr>\n",
              "        <tr>\n",
              "            <td>-1</td>\n",
              "            <td>34.2</td>\n",
              "        </tr>\n",
              "    </tbody>\n",
              "</table>"
            ]
          },
          "metadata": {},
          "execution_count": 19
        }
      ]
    },
    {
      "cell_type": "markdown",
      "source": [
        "# Module 2"
      ],
      "metadata": {
        "id": "djTt8deG_bmr"
      }
    },
    {
      "cell_type": "markdown",
      "source": [
        "## 1) ORDER BY"
      ],
      "metadata": {
        "id": "lDceQQX9_rZ0"
      }
    },
    {
      "cell_type": "code",
      "source": [
        "# @title a. Get Products sorted by Standard_Cost in descending order. {\"vertical-output\":true}\n",
        "\n",
        "%%sql\n",
        "SELECT\n",
        "p.ProductKey\n",
        ", p.Product\n",
        ", CAST(p.Standard_Cost AS NUMERIC) AS Standard_Cost\n",
        "FROM\n",
        "Product AS p\n",
        "ORDER BY\n",
        "Standard_Cost DESC\n",
        "LIMIT 10"
      ],
      "metadata": {
        "id": "xxodN2BL_yTh",
        "colab": {
          "base_uri": "https://localhost:8080/",
          "height": 288
        },
        "cellView": "form",
        "collapsed": true,
        "outputId": "1c4384dc-2214-4e0a-ebc2-c67c369f2ead"
      },
      "execution_count": null,
      "outputs": [
        {
          "output_type": "stream",
          "name": "stdout",
          "text": [
            " * sqlite:///AdventureWorks_Sales.db\n",
            "Done.\n"
          ]
        },
        {
          "output_type": "execute_result",
          "data": {
            "text/plain": [
              "[('310', 'Road-150 Red, 62', 2171.29),\n",
              " ('311', 'Road-150 Red, 44', 2171.29),\n",
              " ('312', 'Road-150 Red, 48', 2171.29),\n",
              " ('313', 'Road-150 Red, 52', 2171.29),\n",
              " ('314', 'Road-150 Red, 56', 2171.29),\n",
              " ('344', 'Mountain-100 Silver, 38', 1912.15),\n",
              " ('345', 'Mountain-100 Silver, 42', 1912.15),\n",
              " ('346', 'Mountain-100 Silver, 44', 1912.15),\n",
              " ('347', 'Mountain-100 Silver, 48', 1912.15),\n",
              " ('348', 'Mountain-100 Black, 38', 1898.09)]"
            ],
            "text/html": [
              "<table>\n",
              "    <thead>\n",
              "        <tr>\n",
              "            <th>ProductKey</th>\n",
              "            <th>Product</th>\n",
              "            <th>Standard_Cost</th>\n",
              "        </tr>\n",
              "    </thead>\n",
              "    <tbody>\n",
              "        <tr>\n",
              "            <td>310</td>\n",
              "            <td>Road-150 Red, 62</td>\n",
              "            <td>2171.29</td>\n",
              "        </tr>\n",
              "        <tr>\n",
              "            <td>311</td>\n",
              "            <td>Road-150 Red, 44</td>\n",
              "            <td>2171.29</td>\n",
              "        </tr>\n",
              "        <tr>\n",
              "            <td>312</td>\n",
              "            <td>Road-150 Red, 48</td>\n",
              "            <td>2171.29</td>\n",
              "        </tr>\n",
              "        <tr>\n",
              "            <td>313</td>\n",
              "            <td>Road-150 Red, 52</td>\n",
              "            <td>2171.29</td>\n",
              "        </tr>\n",
              "        <tr>\n",
              "            <td>314</td>\n",
              "            <td>Road-150 Red, 56</td>\n",
              "            <td>2171.29</td>\n",
              "        </tr>\n",
              "        <tr>\n",
              "            <td>344</td>\n",
              "            <td>Mountain-100 Silver, 38</td>\n",
              "            <td>1912.15</td>\n",
              "        </tr>\n",
              "        <tr>\n",
              "            <td>345</td>\n",
              "            <td>Mountain-100 Silver, 42</td>\n",
              "            <td>1912.15</td>\n",
              "        </tr>\n",
              "        <tr>\n",
              "            <td>346</td>\n",
              "            <td>Mountain-100 Silver, 44</td>\n",
              "            <td>1912.15</td>\n",
              "        </tr>\n",
              "        <tr>\n",
              "            <td>347</td>\n",
              "            <td>Mountain-100 Silver, 48</td>\n",
              "            <td>1912.15</td>\n",
              "        </tr>\n",
              "        <tr>\n",
              "            <td>348</td>\n",
              "            <td>Mountain-100 Black, 38</td>\n",
              "            <td>1898.09</td>\n",
              "        </tr>\n",
              "    </tbody>\n",
              "</table>"
            ]
          },
          "metadata": {},
          "execution_count": 20
        }
      ]
    },
    {
      "cell_type": "code",
      "source": [
        "# @title b. Get top 10 Products sorted by Standard_Cost in descending order. {\"vertical-output\":true}\n",
        "\n",
        "%%sql\n",
        "SELECT\n",
        "p.ProductKey\n",
        ", p.Product\n",
        ", CAST(p.Standard_Cost AS NUMERIC) AS Standard_Cost\n",
        "FROM\n",
        "Product AS p\n",
        "ORDER BY\n",
        "Standard_Cost DESC\n",
        "LIMIT 10"
      ],
      "metadata": {
        "id": "Lo8z3JOhA-qy",
        "colab": {
          "base_uri": "https://localhost:8080/",
          "height": 288
        },
        "cellView": "form",
        "collapsed": true,
        "outputId": "8a918c05-0950-4726-af56-c6111d8ff824"
      },
      "execution_count": null,
      "outputs": [
        {
          "output_type": "stream",
          "name": "stdout",
          "text": [
            " * sqlite:///AdventureWorks_Sales.db\n",
            "Done.\n"
          ]
        },
        {
          "output_type": "execute_result",
          "data": {
            "text/plain": [
              "[('310', 'Road-150 Red, 62', 2171.29),\n",
              " ('311', 'Road-150 Red, 44', 2171.29),\n",
              " ('312', 'Road-150 Red, 48', 2171.29),\n",
              " ('313', 'Road-150 Red, 52', 2171.29),\n",
              " ('314', 'Road-150 Red, 56', 2171.29),\n",
              " ('344', 'Mountain-100 Silver, 38', 1912.15),\n",
              " ('345', 'Mountain-100 Silver, 42', 1912.15),\n",
              " ('346', 'Mountain-100 Silver, 44', 1912.15),\n",
              " ('347', 'Mountain-100 Silver, 48', 1912.15),\n",
              " ('348', 'Mountain-100 Black, 38', 1898.09)]"
            ],
            "text/html": [
              "<table>\n",
              "    <thead>\n",
              "        <tr>\n",
              "            <th>ProductKey</th>\n",
              "            <th>Product</th>\n",
              "            <th>Standard_Cost</th>\n",
              "        </tr>\n",
              "    </thead>\n",
              "    <tbody>\n",
              "        <tr>\n",
              "            <td>310</td>\n",
              "            <td>Road-150 Red, 62</td>\n",
              "            <td>2171.29</td>\n",
              "        </tr>\n",
              "        <tr>\n",
              "            <td>311</td>\n",
              "            <td>Road-150 Red, 44</td>\n",
              "            <td>2171.29</td>\n",
              "        </tr>\n",
              "        <tr>\n",
              "            <td>312</td>\n",
              "            <td>Road-150 Red, 48</td>\n",
              "            <td>2171.29</td>\n",
              "        </tr>\n",
              "        <tr>\n",
              "            <td>313</td>\n",
              "            <td>Road-150 Red, 52</td>\n",
              "            <td>2171.29</td>\n",
              "        </tr>\n",
              "        <tr>\n",
              "            <td>314</td>\n",
              "            <td>Road-150 Red, 56</td>\n",
              "            <td>2171.29</td>\n",
              "        </tr>\n",
              "        <tr>\n",
              "            <td>344</td>\n",
              "            <td>Mountain-100 Silver, 38</td>\n",
              "            <td>1912.15</td>\n",
              "        </tr>\n",
              "        <tr>\n",
              "            <td>345</td>\n",
              "            <td>Mountain-100 Silver, 42</td>\n",
              "            <td>1912.15</td>\n",
              "        </tr>\n",
              "        <tr>\n",
              "            <td>346</td>\n",
              "            <td>Mountain-100 Silver, 44</td>\n",
              "            <td>1912.15</td>\n",
              "        </tr>\n",
              "        <tr>\n",
              "            <td>347</td>\n",
              "            <td>Mountain-100 Silver, 48</td>\n",
              "            <td>1912.15</td>\n",
              "        </tr>\n",
              "        <tr>\n",
              "            <td>348</td>\n",
              "            <td>Mountain-100 Black, 38</td>\n",
              "            <td>1898.09</td>\n",
              "        </tr>\n",
              "    </tbody>\n",
              "</table>"
            ]
          },
          "metadata": {},
          "execution_count": 21
        }
      ]
    },
    {
      "cell_type": "markdown",
      "source": [
        "## 2) WHERE"
      ],
      "metadata": {
        "id": "Vj0WOqxQBlUR"
      }
    },
    {
      "cell_type": "code",
      "source": [
        "# @title a. Filter Products for \"Sport-100\" Model. {\"vertical-output\":true}\n",
        "\n",
        "%%sql\n",
        "SELECT\n",
        "p.ProductKey\n",
        ", p.Product\n",
        ", p.Color\n",
        ", p.Model\n",
        "FROM\n",
        "Product AS p\n",
        "WHERE\n",
        "p.Model = \"Sport-100\"\n",
        "LIMIT 10"
      ],
      "metadata": {
        "colab": {
          "base_uri": "https://localhost:8080/",
          "height": 267
        },
        "id": "n1blduuhBnRY",
        "outputId": "4a8b44a8-2d27-4ed5-db81-608fdfdf2162",
        "cellView": "form",
        "collapsed": true
      },
      "execution_count": null,
      "outputs": [
        {
          "output_type": "stream",
          "name": "stdout",
          "text": [
            " * sqlite:///AdventureWorks_Sales.db\n",
            "Done.\n"
          ]
        },
        {
          "output_type": "execute_result",
          "data": {
            "text/plain": [
              "[('212', 'Sport-100 Helmet, Red', 'Red', 'Sport-100'),\n",
              " ('213', 'Sport-100 Helmet, Red', 'Red', 'Sport-100'),\n",
              " ('214', 'Sport-100 Helmet, Red', 'Red', 'Sport-100'),\n",
              " ('215', 'Sport-100 Helmet, Black', 'Black', 'Sport-100'),\n",
              " ('216', 'Sport-100 Helmet, Black', 'Black', 'Sport-100'),\n",
              " ('217', 'Sport-100 Helmet, Black', 'Black', 'Sport-100'),\n",
              " ('220', 'Sport-100 Helmet, Blue', 'Blue', 'Sport-100'),\n",
              " ('221', 'Sport-100 Helmet, Blue', 'Blue', 'Sport-100'),\n",
              " ('222', 'Sport-100 Helmet, Blue', 'Blue', 'Sport-100')]"
            ],
            "text/html": [
              "<table>\n",
              "    <thead>\n",
              "        <tr>\n",
              "            <th>ProductKey</th>\n",
              "            <th>Product</th>\n",
              "            <th>Color</th>\n",
              "            <th>Model</th>\n",
              "        </tr>\n",
              "    </thead>\n",
              "    <tbody>\n",
              "        <tr>\n",
              "            <td>212</td>\n",
              "            <td>Sport-100 Helmet, Red</td>\n",
              "            <td>Red</td>\n",
              "            <td>Sport-100</td>\n",
              "        </tr>\n",
              "        <tr>\n",
              "            <td>213</td>\n",
              "            <td>Sport-100 Helmet, Red</td>\n",
              "            <td>Red</td>\n",
              "            <td>Sport-100</td>\n",
              "        </tr>\n",
              "        <tr>\n",
              "            <td>214</td>\n",
              "            <td>Sport-100 Helmet, Red</td>\n",
              "            <td>Red</td>\n",
              "            <td>Sport-100</td>\n",
              "        </tr>\n",
              "        <tr>\n",
              "            <td>215</td>\n",
              "            <td>Sport-100 Helmet, Black</td>\n",
              "            <td>Black</td>\n",
              "            <td>Sport-100</td>\n",
              "        </tr>\n",
              "        <tr>\n",
              "            <td>216</td>\n",
              "            <td>Sport-100 Helmet, Black</td>\n",
              "            <td>Black</td>\n",
              "            <td>Sport-100</td>\n",
              "        </tr>\n",
              "        <tr>\n",
              "            <td>217</td>\n",
              "            <td>Sport-100 Helmet, Black</td>\n",
              "            <td>Black</td>\n",
              "            <td>Sport-100</td>\n",
              "        </tr>\n",
              "        <tr>\n",
              "            <td>220</td>\n",
              "            <td>Sport-100 Helmet, Blue</td>\n",
              "            <td>Blue</td>\n",
              "            <td>Sport-100</td>\n",
              "        </tr>\n",
              "        <tr>\n",
              "            <td>221</td>\n",
              "            <td>Sport-100 Helmet, Blue</td>\n",
              "            <td>Blue</td>\n",
              "            <td>Sport-100</td>\n",
              "        </tr>\n",
              "        <tr>\n",
              "            <td>222</td>\n",
              "            <td>Sport-100 Helmet, Blue</td>\n",
              "            <td>Blue</td>\n",
              "            <td>Sport-100</td>\n",
              "        </tr>\n",
              "    </tbody>\n",
              "</table>"
            ]
          },
          "metadata": {},
          "execution_count": 22
        }
      ]
    },
    {
      "cell_type": "code",
      "source": [
        "# @title b. Filter Products for Model \"Sport-100\" and Color \"Red\" or \"Blue\". {\"vertical-output\":true}\n",
        "\n",
        "%%sql\n",
        "SELECT\n",
        "p.ProductKey\n",
        ", p.Product\n",
        ", p.Color\n",
        ", p.Model\n",
        "FROM\n",
        "Product AS p\n",
        "WHERE\n",
        "p.Model = \"Sport-100\"\n",
        "AND p.Color IN (\"Red\", \"Blue\")\n",
        "LIMIT 10"
      ],
      "metadata": {
        "colab": {
          "base_uri": "https://localhost:8080/",
          "height": 203
        },
        "id": "CsDwlzD1B4ix",
        "outputId": "3cb9495f-0881-4d63-ce35-d3ada39e2085",
        "cellView": "form",
        "collapsed": true
      },
      "execution_count": null,
      "outputs": [
        {
          "output_type": "stream",
          "name": "stdout",
          "text": [
            " * sqlite:///AdventureWorks_Sales.db\n",
            "Done.\n"
          ]
        },
        {
          "output_type": "execute_result",
          "data": {
            "text/plain": [
              "[('212', 'Sport-100 Helmet, Red', 'Red', 'Sport-100'),\n",
              " ('213', 'Sport-100 Helmet, Red', 'Red', 'Sport-100'),\n",
              " ('214', 'Sport-100 Helmet, Red', 'Red', 'Sport-100'),\n",
              " ('220', 'Sport-100 Helmet, Blue', 'Blue', 'Sport-100'),\n",
              " ('221', 'Sport-100 Helmet, Blue', 'Blue', 'Sport-100'),\n",
              " ('222', 'Sport-100 Helmet, Blue', 'Blue', 'Sport-100')]"
            ],
            "text/html": [
              "<table>\n",
              "    <thead>\n",
              "        <tr>\n",
              "            <th>ProductKey</th>\n",
              "            <th>Product</th>\n",
              "            <th>Color</th>\n",
              "            <th>Model</th>\n",
              "        </tr>\n",
              "    </thead>\n",
              "    <tbody>\n",
              "        <tr>\n",
              "            <td>212</td>\n",
              "            <td>Sport-100 Helmet, Red</td>\n",
              "            <td>Red</td>\n",
              "            <td>Sport-100</td>\n",
              "        </tr>\n",
              "        <tr>\n",
              "            <td>213</td>\n",
              "            <td>Sport-100 Helmet, Red</td>\n",
              "            <td>Red</td>\n",
              "            <td>Sport-100</td>\n",
              "        </tr>\n",
              "        <tr>\n",
              "            <td>214</td>\n",
              "            <td>Sport-100 Helmet, Red</td>\n",
              "            <td>Red</td>\n",
              "            <td>Sport-100</td>\n",
              "        </tr>\n",
              "        <tr>\n",
              "            <td>220</td>\n",
              "            <td>Sport-100 Helmet, Blue</td>\n",
              "            <td>Blue</td>\n",
              "            <td>Sport-100</td>\n",
              "        </tr>\n",
              "        <tr>\n",
              "            <td>221</td>\n",
              "            <td>Sport-100 Helmet, Blue</td>\n",
              "            <td>Blue</td>\n",
              "            <td>Sport-100</td>\n",
              "        </tr>\n",
              "        <tr>\n",
              "            <td>222</td>\n",
              "            <td>Sport-100 Helmet, Blue</td>\n",
              "            <td>Blue</td>\n",
              "            <td>Sport-100</td>\n",
              "        </tr>\n",
              "    </tbody>\n",
              "</table>"
            ]
          },
          "metadata": {},
          "execution_count": 23
        }
      ]
    },
    {
      "cell_type": "code",
      "source": [
        "# @title c. Filter Products ending in \"M\" for medium size (i.e. Mountain Bike Socks, M). {\"vertical-output\":true}\n",
        "\n",
        "%%sql\n",
        "SELECT\n",
        "p.ProductKey\n",
        ", p.Product\n",
        ", p.Color\n",
        ", p.Model\n",
        "FROM\n",
        "Product AS p\n",
        "WHERE\n",
        "p.Product LIKE \"%, M\"\n",
        "LIMIT 10"
      ],
      "metadata": {
        "colab": {
          "base_uri": "https://localhost:8080/",
          "height": 288
        },
        "id": "2U0mmzXjB5w7",
        "outputId": "2c9fe50e-41b4-45a6-f8da-29bfac36dc8d",
        "cellView": "form",
        "collapsed": true
      },
      "execution_count": null,
      "outputs": [
        {
          "output_type": "stream",
          "name": "stdout",
          "text": [
            " * sqlite:///AdventureWorks_Sales.db\n",
            "Done.\n"
          ]
        },
        {
          "output_type": "execute_result",
          "data": {
            "text/plain": [
              "[('218', 'Mountain Bike Socks, M', 'White', 'Mountain Bike Socks'),\n",
              " ('229', 'Long-Sleeve Logo Jersey, M', 'Multi', 'Long-Sleeve Logo Jersey'),\n",
              " ('230', 'Long-Sleeve Logo Jersey, M', 'Multi', 'Long-Sleeve Logo Jersey'),\n",
              " ('231', 'Long-Sleeve Logo Jersey, M', 'Multi', 'Long-Sleeve Logo Jersey'),\n",
              " ('453', \"Men's Sports Shorts, M\", 'Black', \"Men's Sports Shorts\"),\n",
              " ('457', \"Women's Tights, M\", 'Black', \"Women's Tights\"),\n",
              " ('460', \"Men's Bib-Shorts, M\", 'Multi', \"Men's Bib-Shorts\"),\n",
              " ('464', 'Half-Finger Gloves, M', 'Black', 'Half-Finger Gloves'),\n",
              " ('465', 'Half-Finger Gloves, M', 'Black', 'Half-Finger Gloves'),\n",
              " ('469', 'Full-Finger Gloves, M', 'Black', 'Full-Finger Gloves')]"
            ],
            "text/html": [
              "<table>\n",
              "    <thead>\n",
              "        <tr>\n",
              "            <th>ProductKey</th>\n",
              "            <th>Product</th>\n",
              "            <th>Color</th>\n",
              "            <th>Model</th>\n",
              "        </tr>\n",
              "    </thead>\n",
              "    <tbody>\n",
              "        <tr>\n",
              "            <td>218</td>\n",
              "            <td>Mountain Bike Socks, M</td>\n",
              "            <td>White</td>\n",
              "            <td>Mountain Bike Socks</td>\n",
              "        </tr>\n",
              "        <tr>\n",
              "            <td>229</td>\n",
              "            <td>Long-Sleeve Logo Jersey, M</td>\n",
              "            <td>Multi</td>\n",
              "            <td>Long-Sleeve Logo Jersey</td>\n",
              "        </tr>\n",
              "        <tr>\n",
              "            <td>230</td>\n",
              "            <td>Long-Sleeve Logo Jersey, M</td>\n",
              "            <td>Multi</td>\n",
              "            <td>Long-Sleeve Logo Jersey</td>\n",
              "        </tr>\n",
              "        <tr>\n",
              "            <td>231</td>\n",
              "            <td>Long-Sleeve Logo Jersey, M</td>\n",
              "            <td>Multi</td>\n",
              "            <td>Long-Sleeve Logo Jersey</td>\n",
              "        </tr>\n",
              "        <tr>\n",
              "            <td>453</td>\n",
              "            <td>Men&#x27;s Sports Shorts, M</td>\n",
              "            <td>Black</td>\n",
              "            <td>Men&#x27;s Sports Shorts</td>\n",
              "        </tr>\n",
              "        <tr>\n",
              "            <td>457</td>\n",
              "            <td>Women&#x27;s Tights, M</td>\n",
              "            <td>Black</td>\n",
              "            <td>Women&#x27;s Tights</td>\n",
              "        </tr>\n",
              "        <tr>\n",
              "            <td>460</td>\n",
              "            <td>Men&#x27;s Bib-Shorts, M</td>\n",
              "            <td>Multi</td>\n",
              "            <td>Men&#x27;s Bib-Shorts</td>\n",
              "        </tr>\n",
              "        <tr>\n",
              "            <td>464</td>\n",
              "            <td>Half-Finger Gloves, M</td>\n",
              "            <td>Black</td>\n",
              "            <td>Half-Finger Gloves</td>\n",
              "        </tr>\n",
              "        <tr>\n",
              "            <td>465</td>\n",
              "            <td>Half-Finger Gloves, M</td>\n",
              "            <td>Black</td>\n",
              "            <td>Half-Finger Gloves</td>\n",
              "        </tr>\n",
              "        <tr>\n",
              "            <td>469</td>\n",
              "            <td>Full-Finger Gloves, M</td>\n",
              "            <td>Black</td>\n",
              "            <td>Full-Finger Gloves</td>\n",
              "        </tr>\n",
              "    </tbody>\n",
              "</table>"
            ]
          },
          "metadata": {},
          "execution_count": 24
        }
      ]
    },
    {
      "cell_type": "markdown",
      "source": [
        "# Module 3"
      ],
      "metadata": {
        "id": "WN4E5lDuGp8m"
      }
    },
    {
      "cell_type": "markdown",
      "source": [
        "## 1) COUNT & COUNT DISTINCT"
      ],
      "metadata": {
        "id": "uJkIK6sVHPcB"
      }
    },
    {
      "cell_type": "code",
      "source": [
        "# @title a. Get the total count and the unique count of Customer from the Customer table. {\"vertical-output\":true}\n",
        "\n",
        "%%sql\n",
        "SELECT\n",
        "COUNT(c.Customer) AS Customer_COUNT\n",
        ", COUNT(DISTINCT c.Customer) AS Customer_COUNTD\n",
        "FROM\n",
        "Customer AS c\n",
        "LIMIT 10"
      ],
      "metadata": {
        "colab": {
          "base_uri": "https://localhost:8080/",
          "height": 98
        },
        "cellView": "form",
        "collapsed": true,
        "id": "IqAsqmpJHaw1",
        "outputId": "2b2a2dd9-8ad2-417b-fa93-0f46a3c2317c"
      },
      "execution_count": null,
      "outputs": [
        {
          "output_type": "stream",
          "name": "stdout",
          "text": [
            " * sqlite:///AdventureWorks_Sales.db\n",
            "Done.\n"
          ]
        },
        {
          "output_type": "execute_result",
          "data": {
            "text/plain": [
              "[(18485, 18401)]"
            ],
            "text/html": [
              "<table>\n",
              "    <thead>\n",
              "        <tr>\n",
              "            <th>Customer_COUNT</th>\n",
              "            <th>Customer_COUNTD</th>\n",
              "        </tr>\n",
              "    </thead>\n",
              "    <tbody>\n",
              "        <tr>\n",
              "            <td>18485</td>\n",
              "            <td>18401</td>\n",
              "        </tr>\n",
              "    </tbody>\n",
              "</table>"
            ]
          },
          "metadata": {},
          "execution_count": 25
        }
      ]
    },
    {
      "cell_type": "markdown",
      "source": [
        "## 2) SUM & AVG"
      ],
      "metadata": {
        "id": "cAH42TidGrcE"
      }
    },
    {
      "cell_type": "code",
      "source": [
        "# @title a. Get the sum and the averge of Sales_Amount from the Sales table. {\"vertical-output\":true}\n",
        "\n",
        "%%sql\n",
        "SELECT\n",
        "SUM(CAST(s.Sales_Amount AS NUMERIC)) AS Sales_Amount_SUM\n",
        ", AVG(CAST(s.Sales_Amount AS NUMERIC)) AS Sales_Amount_AVG\n",
        "FROM\n",
        "Sales AS s\n",
        "LIMIT 10"
      ],
      "metadata": {
        "colab": {
          "base_uri": "https://localhost:8080/",
          "height": 98
        },
        "cellView": "form",
        "collapsed": true,
        "id": "0XD3-WZEG_3K",
        "outputId": "476f9e82-0236-4bbb-aa20-828a13fc659e"
      },
      "execution_count": null,
      "outputs": [
        {
          "output_type": "stream",
          "name": "stdout",
          "text": [
            " * sqlite:///AdventureWorks_Sales.db\n",
            "Done.\n"
          ]
        },
        {
          "output_type": "execute_result",
          "data": {
            "text/plain": [
              "[(109809273.9997523, 905.6210897854263)]"
            ],
            "text/html": [
              "<table>\n",
              "    <thead>\n",
              "        <tr>\n",
              "            <th>Sales_Amount_SUM</th>\n",
              "            <th>Sales_Amount_AVG</th>\n",
              "        </tr>\n",
              "    </thead>\n",
              "    <tbody>\n",
              "        <tr>\n",
              "            <td>109809273.9997523</td>\n",
              "            <td>905.6210897854263</td>\n",
              "        </tr>\n",
              "    </tbody>\n",
              "</table>"
            ]
          },
          "metadata": {},
          "execution_count": 26
        }
      ]
    },
    {
      "cell_type": "markdown",
      "source": [
        "## 3) MAX & MIN"
      ],
      "metadata": {
        "id": "-z37KeoQIJtU"
      }
    },
    {
      "cell_type": "code",
      "source": [
        "# @title a. Get the maximum and the minimum of Sales_Amount from the Sales table. {\"vertical-output\":true}\n",
        "\n",
        "%%sql\n",
        "SELECT\n",
        "MAX(CAST(s.Sales_Amount AS NUMERIC)) AS Sales_Amount_MAX\n",
        ", MIN(CAST(s.Sales_Amount AS NUMERIC)) AS Sales_Amount_MIN\n",
        "FROM\n",
        "Sales AS s\n",
        "LIMIT 10"
      ],
      "metadata": {
        "colab": {
          "base_uri": "https://localhost:8080/",
          "height": 98
        },
        "cellView": "form",
        "collapsed": true,
        "id": "1HxGZRrSIOgG",
        "outputId": "76500941-8e08-44aa-be5c-4bffa354f0c1"
      },
      "execution_count": null,
      "outputs": [
        {
          "output_type": "stream",
          "name": "stdout",
          "text": [
            " * sqlite:///AdventureWorks_Sales.db\n",
            "Done.\n"
          ]
        },
        {
          "output_type": "execute_result",
          "data": {
            "text/plain": [
              "[(27893.62, 1.37)]"
            ],
            "text/html": [
              "<table>\n",
              "    <thead>\n",
              "        <tr>\n",
              "            <th>Sales_Amount_MAX</th>\n",
              "            <th>Sales_Amount_MIN</th>\n",
              "        </tr>\n",
              "    </thead>\n",
              "    <tbody>\n",
              "        <tr>\n",
              "            <td>27893.62</td>\n",
              "            <td>1.37</td>\n",
              "        </tr>\n",
              "    </tbody>\n",
              "</table>"
            ]
          },
          "metadata": {},
          "execution_count": 27
        }
      ]
    },
    {
      "cell_type": "markdown",
      "source": [
        "## 4) GROUP BY"
      ],
      "metadata": {
        "id": "wvlIauU_JTEw"
      }
    },
    {
      "cell_type": "code",
      "source": [
        "# @title a. Get the sum of Sales_Amount by OrderDateKey. {\"vertical-output\":true}\n",
        "\n",
        "%%sql\n",
        "SELECT\n",
        "s.OrderDateKey\n",
        ", SUM(CAST(s.Sales_Amount AS NUMERIC)) AS Sales_Amount_SUM\n",
        "FROM\n",
        "Sales AS s\n",
        "GROUP BY\n",
        "s.OrderDateKey\n",
        "LIMIT 10"
      ],
      "metadata": {
        "colab": {
          "base_uri": "https://localhost:8080/",
          "height": 288
        },
        "cellView": "form",
        "collapsed": true,
        "id": "TIhxQxNhJWdy",
        "outputId": "0ade273a-dfa0-42be-8070-124f03d4df63"
      },
      "execution_count": null,
      "outputs": [
        {
          "output_type": "stream",
          "name": "stdout",
          "text": [
            " * sqlite:///AdventureWorks_Sales.db\n",
            "Done.\n"
          ]
        },
        {
          "output_type": "execute_result",
          "data": {
            "text/plain": [
              "[('20170701', 28408.86),\n",
              " ('20170702', 42734.31999999999),\n",
              " ('20170703', 29325.260000000002),\n",
              " ('20170704', 15711.28),\n",
              " ('20170705', 65487.03999999997),\n",
              " ('20170706', 28447.88),\n",
              " ('20170707', 100241.78000000004),\n",
              " ('20170708', 25543.710000000003),\n",
              " ('20170709', 26144.550000000003),\n",
              " ('20170710', 79590.26)]"
            ],
            "text/html": [
              "<table>\n",
              "    <thead>\n",
              "        <tr>\n",
              "            <th>OrderDateKey</th>\n",
              "            <th>Sales_Amount_SUM</th>\n",
              "        </tr>\n",
              "    </thead>\n",
              "    <tbody>\n",
              "        <tr>\n",
              "            <td>20170701</td>\n",
              "            <td>28408.86</td>\n",
              "        </tr>\n",
              "        <tr>\n",
              "            <td>20170702</td>\n",
              "            <td>42734.31999999999</td>\n",
              "        </tr>\n",
              "        <tr>\n",
              "            <td>20170703</td>\n",
              "            <td>29325.260000000002</td>\n",
              "        </tr>\n",
              "        <tr>\n",
              "            <td>20170704</td>\n",
              "            <td>15711.28</td>\n",
              "        </tr>\n",
              "        <tr>\n",
              "            <td>20170705</td>\n",
              "            <td>65487.03999999997</td>\n",
              "        </tr>\n",
              "        <tr>\n",
              "            <td>20170706</td>\n",
              "            <td>28447.88</td>\n",
              "        </tr>\n",
              "        <tr>\n",
              "            <td>20170707</td>\n",
              "            <td>100241.78000000004</td>\n",
              "        </tr>\n",
              "        <tr>\n",
              "            <td>20170708</td>\n",
              "            <td>25543.710000000003</td>\n",
              "        </tr>\n",
              "        <tr>\n",
              "            <td>20170709</td>\n",
              "            <td>26144.550000000003</td>\n",
              "        </tr>\n",
              "        <tr>\n",
              "            <td>20170710</td>\n",
              "            <td>79590.26</td>\n",
              "        </tr>\n",
              "    </tbody>\n",
              "</table>"
            ]
          },
          "metadata": {},
          "execution_count": 28
        }
      ]
    },
    {
      "cell_type": "code",
      "source": [
        "# @title b. Get the sum of Sales_Amount by OrderDateKey and CustomerKey. {\"vertical-output\":true}\n",
        "\n",
        "%%sql\n",
        "SELECT\n",
        "s.OrderDateKey\n",
        ", s.CustomerKey\n",
        ", SUM(CAST(s.Sales_Amount AS NUMERIC)) AS Sales_Amount_SUM\n",
        "FROM\n",
        "Sales AS s\n",
        "GROUP BY\n",
        "s.OrderDateKey\n",
        ", s.CustomerKey\n",
        "LIMIT 10"
      ],
      "metadata": {
        "colab": {
          "base_uri": "https://localhost:8080/",
          "height": 288
        },
        "cellView": "form",
        "collapsed": true,
        "id": "jBX4ON_OKvci",
        "outputId": "8a667644-7308-4778-c855-4f6e20c20c03"
      },
      "execution_count": null,
      "outputs": [
        {
          "output_type": "stream",
          "name": "stdout",
          "text": [
            " * sqlite:///AdventureWorks_Sales.db\n",
            "Done.\n"
          ]
        },
        {
          "output_type": "execute_result",
          "data": {
            "text/plain": [
              "[('20170701', '11003', 3399.99),\n",
              " ('20170701', '11005', 3374.99),\n",
              " ('20170701', '11011', 3399.99),\n",
              " ('20170701', '14501', 699.1),\n",
              " ('20170701', '16624', 3578.27),\n",
              " ('20170701', '21768', 3578.27),\n",
              " ('20170701', '25863', 3399.99),\n",
              " ('20170701', '27645', 3578.27),\n",
              " ('20170701', '28389', 3399.99),\n",
              " ('20170702', '-1', 20565.600000000002)]"
            ],
            "text/html": [
              "<table>\n",
              "    <thead>\n",
              "        <tr>\n",
              "            <th>OrderDateKey</th>\n",
              "            <th>CustomerKey</th>\n",
              "            <th>Sales_Amount_SUM</th>\n",
              "        </tr>\n",
              "    </thead>\n",
              "    <tbody>\n",
              "        <tr>\n",
              "            <td>20170701</td>\n",
              "            <td>11003</td>\n",
              "            <td>3399.99</td>\n",
              "        </tr>\n",
              "        <tr>\n",
              "            <td>20170701</td>\n",
              "            <td>11005</td>\n",
              "            <td>3374.99</td>\n",
              "        </tr>\n",
              "        <tr>\n",
              "            <td>20170701</td>\n",
              "            <td>11011</td>\n",
              "            <td>3399.99</td>\n",
              "        </tr>\n",
              "        <tr>\n",
              "            <td>20170701</td>\n",
              "            <td>14501</td>\n",
              "            <td>699.1</td>\n",
              "        </tr>\n",
              "        <tr>\n",
              "            <td>20170701</td>\n",
              "            <td>16624</td>\n",
              "            <td>3578.27</td>\n",
              "        </tr>\n",
              "        <tr>\n",
              "            <td>20170701</td>\n",
              "            <td>21768</td>\n",
              "            <td>3578.27</td>\n",
              "        </tr>\n",
              "        <tr>\n",
              "            <td>20170701</td>\n",
              "            <td>25863</td>\n",
              "            <td>3399.99</td>\n",
              "        </tr>\n",
              "        <tr>\n",
              "            <td>20170701</td>\n",
              "            <td>27645</td>\n",
              "            <td>3578.27</td>\n",
              "        </tr>\n",
              "        <tr>\n",
              "            <td>20170701</td>\n",
              "            <td>28389</td>\n",
              "            <td>3399.99</td>\n",
              "        </tr>\n",
              "        <tr>\n",
              "            <td>20170702</td>\n",
              "            <td>-1</td>\n",
              "            <td>20565.600000000002</td>\n",
              "        </tr>\n",
              "    </tbody>\n",
              "</table>"
            ]
          },
          "metadata": {},
          "execution_count": 29
        }
      ]
    },
    {
      "cell_type": "code",
      "source": [
        "# @title c. Get the sum and the average of Sales_Amount by OrderDateKey. {\"vertical-output\":true}\n",
        "\n",
        "%%sql\n",
        "SELECT\n",
        "s.OrderDateKey\n",
        ", SUM(CAST(s.Sales_Amount AS NUMERIC)) AS Sales_Amount_SUM\n",
        ", AVG(CAST(s.Sales_Amount AS NUMERIC)) AS Sales_Amount_AVG\n",
        "FROM\n",
        "Sales AS s\n",
        "GROUP BY\n",
        "s.OrderDateKey\n",
        "LIMIT 10"
      ],
      "metadata": {
        "colab": {
          "base_uri": "https://localhost:8080/",
          "height": 288
        },
        "cellView": "form",
        "collapsed": true,
        "id": "nQigYDonNpp4",
        "outputId": "7fcdcac1-92f9-4239-df70-0ef1ebf2af06"
      },
      "execution_count": null,
      "outputs": [
        {
          "output_type": "stream",
          "name": "stdout",
          "text": [
            " * sqlite:///AdventureWorks_Sales.db\n",
            "Done.\n"
          ]
        },
        {
          "output_type": "execute_result",
          "data": {
            "text/plain": [
              "[('20170701', 28408.86, 3156.54),\n",
              " ('20170702', 42734.31999999999, 2249.1747368421047),\n",
              " ('20170703', 29325.260000000002, 3258.3622222222225),\n",
              " ('20170704', 15711.28, 2618.5466666666666),\n",
              " ('20170705', 65487.03999999997, 2518.7323076923067),\n",
              " ('20170706', 28447.88, 3555.985),\n",
              " ('20170707', 100241.78000000004, 2004.8356000000008),\n",
              " ('20170708', 25543.710000000003, 3192.9637500000003),\n",
              " ('20170709', 26144.550000000003, 2178.7125),\n",
              " ('20170710', 79590.26, 1730.2230434782607)]"
            ],
            "text/html": [
              "<table>\n",
              "    <thead>\n",
              "        <tr>\n",
              "            <th>OrderDateKey</th>\n",
              "            <th>Sales_Amount_SUM</th>\n",
              "            <th>Sales_Amount_AVG</th>\n",
              "        </tr>\n",
              "    </thead>\n",
              "    <tbody>\n",
              "        <tr>\n",
              "            <td>20170701</td>\n",
              "            <td>28408.86</td>\n",
              "            <td>3156.54</td>\n",
              "        </tr>\n",
              "        <tr>\n",
              "            <td>20170702</td>\n",
              "            <td>42734.31999999999</td>\n",
              "            <td>2249.1747368421047</td>\n",
              "        </tr>\n",
              "        <tr>\n",
              "            <td>20170703</td>\n",
              "            <td>29325.260000000002</td>\n",
              "            <td>3258.3622222222225</td>\n",
              "        </tr>\n",
              "        <tr>\n",
              "            <td>20170704</td>\n",
              "            <td>15711.28</td>\n",
              "            <td>2618.5466666666666</td>\n",
              "        </tr>\n",
              "        <tr>\n",
              "            <td>20170705</td>\n",
              "            <td>65487.03999999997</td>\n",
              "            <td>2518.7323076923067</td>\n",
              "        </tr>\n",
              "        <tr>\n",
              "            <td>20170706</td>\n",
              "            <td>28447.88</td>\n",
              "            <td>3555.985</td>\n",
              "        </tr>\n",
              "        <tr>\n",
              "            <td>20170707</td>\n",
              "            <td>100241.78000000004</td>\n",
              "            <td>2004.8356000000008</td>\n",
              "        </tr>\n",
              "        <tr>\n",
              "            <td>20170708</td>\n",
              "            <td>25543.710000000003</td>\n",
              "            <td>3192.9637500000003</td>\n",
              "        </tr>\n",
              "        <tr>\n",
              "            <td>20170709</td>\n",
              "            <td>26144.550000000003</td>\n",
              "            <td>2178.7125</td>\n",
              "        </tr>\n",
              "        <tr>\n",
              "            <td>20170710</td>\n",
              "            <td>79590.26</td>\n",
              "            <td>1730.2230434782607</td>\n",
              "        </tr>\n",
              "    </tbody>\n",
              "</table>"
            ]
          },
          "metadata": {},
          "execution_count": 30
        }
      ]
    },
    {
      "cell_type": "code",
      "source": [
        "# @title d. Get the sum and the average of Sales_Amount by OrderDateKey and CustomerKey. {\"vertical-output\":true}\n",
        "\n",
        "%%sql\n",
        "SELECT\n",
        "s.OrderDateKey\n",
        ", s.CustomerKey\n",
        ", SUM(CAST(s.Sales_Amount AS NUMERIC)) AS Sales_Amount_SUM\n",
        ", AVG(CAST(s.Sales_Amount AS NUMERIC)) AS Sales_Amount_AVG\n",
        "FROM\n",
        "Sales AS s\n",
        "GROUP BY\n",
        "s.OrderDateKey\n",
        ", s.CustomerKey\n",
        "LIMIT 10"
      ],
      "metadata": {
        "colab": {
          "base_uri": "https://localhost:8080/",
          "height": 288
        },
        "cellView": "form",
        "collapsed": true,
        "id": "nbddcpQDK061",
        "outputId": "a58d27cf-069a-4917-e465-b50a84e4ba16"
      },
      "execution_count": null,
      "outputs": [
        {
          "output_type": "stream",
          "name": "stdout",
          "text": [
            " * sqlite:///AdventureWorks_Sales.db\n",
            "Done.\n"
          ]
        },
        {
          "output_type": "execute_result",
          "data": {
            "text/plain": [
              "[('20170701', '11003', 3399.99, 3399.99),\n",
              " ('20170701', '11005', 3374.99, 3374.99),\n",
              " ('20170701', '11011', 3399.99, 3399.99),\n",
              " ('20170701', '14501', 699.1, 699.1),\n",
              " ('20170701', '16624', 3578.27, 3578.27),\n",
              " ('20170701', '21768', 3578.27, 3578.27),\n",
              " ('20170701', '25863', 3399.99, 3399.99),\n",
              " ('20170701', '27645', 3578.27, 3578.27),\n",
              " ('20170701', '28389', 3399.99, 3399.99),\n",
              " ('20170702', '-1', 20565.600000000002, 1713.8000000000002)]"
            ],
            "text/html": [
              "<table>\n",
              "    <thead>\n",
              "        <tr>\n",
              "            <th>OrderDateKey</th>\n",
              "            <th>CustomerKey</th>\n",
              "            <th>Sales_Amount_SUM</th>\n",
              "            <th>Sales_Amount_AVG</th>\n",
              "        </tr>\n",
              "    </thead>\n",
              "    <tbody>\n",
              "        <tr>\n",
              "            <td>20170701</td>\n",
              "            <td>11003</td>\n",
              "            <td>3399.99</td>\n",
              "            <td>3399.99</td>\n",
              "        </tr>\n",
              "        <tr>\n",
              "            <td>20170701</td>\n",
              "            <td>11005</td>\n",
              "            <td>3374.99</td>\n",
              "            <td>3374.99</td>\n",
              "        </tr>\n",
              "        <tr>\n",
              "            <td>20170701</td>\n",
              "            <td>11011</td>\n",
              "            <td>3399.99</td>\n",
              "            <td>3399.99</td>\n",
              "        </tr>\n",
              "        <tr>\n",
              "            <td>20170701</td>\n",
              "            <td>14501</td>\n",
              "            <td>699.1</td>\n",
              "            <td>699.1</td>\n",
              "        </tr>\n",
              "        <tr>\n",
              "            <td>20170701</td>\n",
              "            <td>16624</td>\n",
              "            <td>3578.27</td>\n",
              "            <td>3578.27</td>\n",
              "        </tr>\n",
              "        <tr>\n",
              "            <td>20170701</td>\n",
              "            <td>21768</td>\n",
              "            <td>3578.27</td>\n",
              "            <td>3578.27</td>\n",
              "        </tr>\n",
              "        <tr>\n",
              "            <td>20170701</td>\n",
              "            <td>25863</td>\n",
              "            <td>3399.99</td>\n",
              "            <td>3399.99</td>\n",
              "        </tr>\n",
              "        <tr>\n",
              "            <td>20170701</td>\n",
              "            <td>27645</td>\n",
              "            <td>3578.27</td>\n",
              "            <td>3578.27</td>\n",
              "        </tr>\n",
              "        <tr>\n",
              "            <td>20170701</td>\n",
              "            <td>28389</td>\n",
              "            <td>3399.99</td>\n",
              "            <td>3399.99</td>\n",
              "        </tr>\n",
              "        <tr>\n",
              "            <td>20170702</td>\n",
              "            <td>-1</td>\n",
              "            <td>20565.600000000002</td>\n",
              "            <td>1713.8000000000002</td>\n",
              "        </tr>\n",
              "    </tbody>\n",
              "</table>"
            ]
          },
          "metadata": {},
          "execution_count": 31
        }
      ]
    },
    {
      "cell_type": "code",
      "source": [
        "# @title e. Get the sum of Sales_Amount by OrderDateKey for CustomerKey \"11091\". {\"vertical-output\":true}\n",
        "\n",
        "%%sql\n",
        "SELECT\n",
        "s.OrderDateKey\n",
        ", s.CustomerKey\n",
        ", SUM(CAST(s.Sales_Amount AS NUMERIC)) AS Sales_Amount_SUM\n",
        "FROM\n",
        "Sales AS s\n",
        "WHERE\n",
        "s.CustomerKey = \"11091\"\n",
        "GROUP BY\n",
        "s.OrderDateKey\n",
        ", s.CustomerKey\n",
        "LIMIT 10"
      ],
      "metadata": {
        "colab": {
          "base_uri": "https://localhost:8080/",
          "height": 288
        },
        "cellView": "form",
        "collapsed": true,
        "id": "Nt_fvswTK535",
        "outputId": "be299164-e3d7-4848-bcce-873ef20eb5cd"
      },
      "execution_count": null,
      "outputs": [
        {
          "output_type": "stream",
          "name": "stdout",
          "text": [
            " * sqlite:///AdventureWorks_Sales.db\n",
            "Done.\n"
          ]
        },
        {
          "output_type": "execute_result",
          "data": {
            "text/plain": [
              "[('20190702', '11091', 13.98),\n",
              " ('20190712', '11091', 53.99),\n",
              " ('20190810', '11091', 58.47),\n",
              " ('20190815', '11091', 12.940000000000001),\n",
              " ('20190823', '11091', 74.48),\n",
              " ('20190904', '11091', 38.88),\n",
              " ('20190905', '11091', 27.769999999999996),\n",
              " ('20190920', '11091', 39.980000000000004),\n",
              " ('20190927', '11091', 4.99),\n",
              " ('20191006', '11091', 6.28)]"
            ],
            "text/html": [
              "<table>\n",
              "    <thead>\n",
              "        <tr>\n",
              "            <th>OrderDateKey</th>\n",
              "            <th>CustomerKey</th>\n",
              "            <th>Sales_Amount_SUM</th>\n",
              "        </tr>\n",
              "    </thead>\n",
              "    <tbody>\n",
              "        <tr>\n",
              "            <td>20190702</td>\n",
              "            <td>11091</td>\n",
              "            <td>13.98</td>\n",
              "        </tr>\n",
              "        <tr>\n",
              "            <td>20190712</td>\n",
              "            <td>11091</td>\n",
              "            <td>53.99</td>\n",
              "        </tr>\n",
              "        <tr>\n",
              "            <td>20190810</td>\n",
              "            <td>11091</td>\n",
              "            <td>58.47</td>\n",
              "        </tr>\n",
              "        <tr>\n",
              "            <td>20190815</td>\n",
              "            <td>11091</td>\n",
              "            <td>12.940000000000001</td>\n",
              "        </tr>\n",
              "        <tr>\n",
              "            <td>20190823</td>\n",
              "            <td>11091</td>\n",
              "            <td>74.48</td>\n",
              "        </tr>\n",
              "        <tr>\n",
              "            <td>20190904</td>\n",
              "            <td>11091</td>\n",
              "            <td>38.88</td>\n",
              "        </tr>\n",
              "        <tr>\n",
              "            <td>20190905</td>\n",
              "            <td>11091</td>\n",
              "            <td>27.769999999999996</td>\n",
              "        </tr>\n",
              "        <tr>\n",
              "            <td>20190920</td>\n",
              "            <td>11091</td>\n",
              "            <td>39.980000000000004</td>\n",
              "        </tr>\n",
              "        <tr>\n",
              "            <td>20190927</td>\n",
              "            <td>11091</td>\n",
              "            <td>4.99</td>\n",
              "        </tr>\n",
              "        <tr>\n",
              "            <td>20191006</td>\n",
              "            <td>11091</td>\n",
              "            <td>6.28</td>\n",
              "        </tr>\n",
              "    </tbody>\n",
              "</table>"
            ]
          },
          "metadata": {},
          "execution_count": 32
        }
      ]
    },
    {
      "cell_type": "code",
      "source": [
        "# @title f. Get the sum of Sales_Amount by OrderDateKey for CustomerKey \"11091\" with over $100 in sales. {\"vertical-output\":true}\n",
        "\n",
        "%%sql\n",
        "SELECT\n",
        "s.OrderDateKey\n",
        ", s.CustomerKey\n",
        ", SUM(CAST(s.Sales_Amount AS NUMERIC)) AS Sales_Amount_SUM\n",
        "FROM\n",
        "Sales AS s\n",
        "WHERE\n",
        "s.CustomerKey = \"11091\"\n",
        "GROUP BY\n",
        "s.OrderDateKey\n",
        ", s.CustomerKey\n",
        "HAVING\n",
        "Sales_Amount_SUM > 100\n",
        "LIMIT 10"
      ],
      "metadata": {
        "colab": {
          "base_uri": "https://localhost:8080/",
          "height": 119
        },
        "cellView": "form",
        "collapsed": true,
        "id": "gS48yu6WK-dZ",
        "outputId": "085a7860-18d5-41b0-a607-b4b66eac683c"
      },
      "execution_count": null,
      "outputs": [
        {
          "output_type": "stream",
          "name": "stdout",
          "text": [
            " * sqlite:///AdventureWorks_Sales.db\n",
            "Done.\n"
          ]
        },
        {
          "output_type": "execute_result",
          "data": {
            "text/plain": [
              "[('20200104', '11091', 114.96000000000001), ('20200313', '11091', 144.49)]"
            ],
            "text/html": [
              "<table>\n",
              "    <thead>\n",
              "        <tr>\n",
              "            <th>OrderDateKey</th>\n",
              "            <th>CustomerKey</th>\n",
              "            <th>Sales_Amount_SUM</th>\n",
              "        </tr>\n",
              "    </thead>\n",
              "    <tbody>\n",
              "        <tr>\n",
              "            <td>20200104</td>\n",
              "            <td>11091</td>\n",
              "            <td>114.96000000000001</td>\n",
              "        </tr>\n",
              "        <tr>\n",
              "            <td>20200313</td>\n",
              "            <td>11091</td>\n",
              "            <td>144.49</td>\n",
              "        </tr>\n",
              "    </tbody>\n",
              "</table>"
            ]
          },
          "metadata": {},
          "execution_count": 33
        }
      ]
    },
    {
      "cell_type": "markdown",
      "source": [
        "# Module 4"
      ],
      "metadata": {
        "id": "aSKSydv_RvgL"
      }
    },
    {
      "cell_type": "markdown",
      "source": [
        "## 1) INNER JOIN"
      ],
      "metadata": {
        "id": "cXFF73yzRyCd"
      }
    },
    {
      "cell_type": "code",
      "source": [
        "# @title a. Get only matching records between the Sales and Product tables, joining on ProductKey. Check if ProductKeys \"212\" and \"210\" are in the output. {\"vertical-output\":true}\n",
        "\n",
        "%%sql\n",
        "SELECT DISTINCT --distinct is optional\n",
        "s.ProductKey AS ProductKey_Sales\n",
        ", p.ProductKey AS ProductKey_Product\n",
        "FROM\n",
        "Sales AS s\n",
        "INNER JOIN\n",
        "Product AS p ON s.ProductKey = p.ProductKey\n",
        "WHERE\n",
        "s.ProductKey IN ('212', '210') --ProductKey 212 is in both the Sales and Product tables, ProductKey 210 is in only the Product table.\n",
        "LIMIT 10"
      ],
      "metadata": {
        "colab": {
          "base_uri": "https://localhost:8080/",
          "height": 98
        },
        "cellView": "form",
        "collapsed": true,
        "id": "8Vf4DH2HRgMQ",
        "outputId": "cbad9bd6-0b86-4fdd-b4da-5ee41de480e6"
      },
      "execution_count": null,
      "outputs": [
        {
          "output_type": "stream",
          "name": "stdout",
          "text": [
            " * sqlite:///AdventureWorks_Sales.db\n",
            "Done.\n"
          ]
        },
        {
          "output_type": "execute_result",
          "data": {
            "text/plain": [
              "[('212', '212')]"
            ],
            "text/html": [
              "<table>\n",
              "    <thead>\n",
              "        <tr>\n",
              "            <th>ProductKey_Sales</th>\n",
              "            <th>ProductKey_Product</th>\n",
              "        </tr>\n",
              "    </thead>\n",
              "    <tbody>\n",
              "        <tr>\n",
              "            <td>212</td>\n",
              "            <td>212</td>\n",
              "        </tr>\n",
              "    </tbody>\n",
              "</table>"
            ]
          },
          "metadata": {},
          "execution_count": 34
        }
      ]
    },
    {
      "cell_type": "markdown",
      "source": [
        "## 2) LEFT JOIN"
      ],
      "metadata": {
        "id": "At9x3-qLTKiT"
      }
    },
    {
      "cell_type": "code",
      "source": [
        "# @title a. Get all existing records from the Sales table and only matching records from the Product table. Check if ProductKeys \"212\" and \"210\" are in the output. {\"vertical-output\":true}\n",
        "\n",
        "%%sql\n",
        "SELECT DISTINCT\n",
        "s.ProductKey AS ProductKey_Sales\n",
        ", p.ProductKey AS ProductKey_Product\n",
        "FROM\n",
        "Sales AS s\n",
        "LEFT JOIN\n",
        "Product AS p ON s.ProductKey = p.ProductKey\n",
        "WHERE\n",
        "s.ProductKey IN ('212', '210')\n",
        "LIMIT 10"
      ],
      "metadata": {
        "colab": {
          "base_uri": "https://localhost:8080/",
          "height": 98
        },
        "cellView": "form",
        "collapsed": true,
        "id": "8rA6LM5RShdQ",
        "outputId": "681299a2-cd11-4f29-bffe-27e2e42cabcb"
      },
      "execution_count": null,
      "outputs": [
        {
          "output_type": "stream",
          "name": "stdout",
          "text": [
            " * sqlite:///AdventureWorks_Sales.db\n",
            "Done.\n"
          ]
        },
        {
          "output_type": "execute_result",
          "data": {
            "text/plain": [
              "[('212', '212')]"
            ],
            "text/html": [
              "<table>\n",
              "    <thead>\n",
              "        <tr>\n",
              "            <th>ProductKey_Sales</th>\n",
              "            <th>ProductKey_Product</th>\n",
              "        </tr>\n",
              "    </thead>\n",
              "    <tbody>\n",
              "        <tr>\n",
              "            <td>212</td>\n",
              "            <td>212</td>\n",
              "        </tr>\n",
              "    </tbody>\n",
              "</table>"
            ]
          },
          "metadata": {},
          "execution_count": 35
        }
      ]
    },
    {
      "cell_type": "markdown",
      "source": [
        "## 3) RIGHT JOIN"
      ],
      "metadata": {
        "id": "zxop3GE3TCzV"
      }
    },
    {
      "cell_type": "code",
      "source": [
        "# @title a. Get only matching records from the Sales table and all existing records from the Product table. Check if ProductKeys \"212\" and \"210\" are in the output. {\"vertical-output\":true}\n",
        "\n",
        "%%sql\n",
        "SELECT DISTINCT\n",
        "s.ProductKey AS ProductKey_Sales\n",
        ", p.ProductKey AS ProductKey_Product\n",
        "FROM\n",
        "Sales AS s\n",
        "RIGHT JOIN\n",
        "Product AS p ON s.ProductKey = p.ProductKey\n",
        "WHERE\n",
        "s.ProductKey IN ('212', '210')\n",
        "LIMIT 10"
      ],
      "metadata": {
        "colab": {
          "base_uri": "https://localhost:8080/"
        },
        "cellView": "form",
        "collapsed": true,
        "id": "1cKJ60mCS-R8",
        "outputId": "5018a363-0436-4ec9-ae63-d4e4d9b127a5"
      },
      "execution_count": null,
      "outputs": [
        {
          "output_type": "stream",
          "name": "stdout",
          "text": [
            " * sqlite:///AdventureWorks_Sales.db\n",
            "(sqlite3.OperationalError) RIGHT and FULL OUTER JOINs are not currently supported\n",
            "[SQL: SELECT DISTINCT\n",
            "s.ProductKey AS ProductKey_Sales\n",
            ", p.ProductKey AS ProductKey_Product\n",
            "FROM\n",
            "Sales AS s\n",
            "RIGHT JOIN\n",
            "Product AS p ON s.ProductKey = p.ProductKey\n",
            "WHERE\n",
            "s.ProductKey IN ('212', '210')\n",
            "LIMIT 10]\n",
            "(Background on this error at: https://sqlalche.me/e/20/e3q8)\n"
          ]
        }
      ]
    },
    {
      "cell_type": "markdown",
      "source": [
        "## 4) FULL JOIN"
      ],
      "metadata": {
        "id": "X324xwt-S1YO"
      }
    },
    {
      "cell_type": "code",
      "source": [
        "# @title a. Get all existing records across the Product and Sales table. Check if ProductKeys \"212\" and \"210\" are in the output. {\"vertical-output\":true}\n",
        "\n",
        "%%sql\n",
        "SELECT DISTINCT\n",
        "s.ProductKey AS ProductKey_Sales\n",
        ", p.ProductKey AS ProductKey_Product\n",
        "FROM\n",
        "Sales AS s\n",
        "FULL JOIN\n",
        "Product AS p ON s.ProductKey = p.ProductKey\n",
        "WHERE\n",
        "s.ProductKey IN ('212', '210')\n",
        "LIMIT 10"
      ],
      "metadata": {
        "colab": {
          "base_uri": "https://localhost:8080/"
        },
        "cellView": "form",
        "collapsed": true,
        "id": "0mRjqwICShQQ",
        "outputId": "b3df6863-1fe9-4859-ad67-5616ff2b1d5b"
      },
      "execution_count": null,
      "outputs": [
        {
          "output_type": "stream",
          "name": "stdout",
          "text": [
            " * sqlite:///AdventureWorks_Sales.db\n",
            "(sqlite3.OperationalError) RIGHT and FULL OUTER JOINs are not currently supported\n",
            "[SQL: SELECT DISTINCT\n",
            "s.ProductKey AS ProductKey_Sales\n",
            ", p.ProductKey AS ProductKey_Product\n",
            "FROM\n",
            "Sales AS s\n",
            "FULL JOIN\n",
            "Product AS p ON s.ProductKey = p.ProductKey\n",
            "WHERE\n",
            "s.ProductKey IN ('212', '210')\n",
            "LIMIT 10]\n",
            "(Background on this error at: https://sqlalche.me/e/20/e3q8)\n"
          ]
        }
      ]
    },
    {
      "cell_type": "markdown",
      "source": [
        "## 5) Multiple Joins"
      ],
      "metadata": {
        "id": "JPQmxe6aSpsl"
      }
    },
    {
      "cell_type": "code",
      "source": [
        "# @title a. Join the Customer and Product tables to the Sales table. Get the sales data for CustomerKey \"11445\" including Customer, Product, OrderDateKey, Order_Quantity, and Sales_Amount. {\"vertical-output\":true}\n",
        "\n",
        "%%sql\n",
        "SELECT\n",
        "s.CustomerKey\n",
        ", c.CustomerKey\n",
        ", c.Customer\n",
        ", s.ProductKey\n",
        ", p.ProductKey\n",
        ", p.Product\n",
        ", s.OrderDateKey\n",
        ", s.Order_Quantity\n",
        ", s.Sales_Amount\n",
        "FROM\n",
        "Sales AS s\n",
        "LEFT JOIN\n",
        "Customer AS c on s.CustomerKey = c.CustomerKey\n",
        "LEFT JOIN\n",
        "Product AS p on s.ProductKey = p.ProductKey\n",
        "WHERE\n",
        "s.CustomerKey = \"11445\"\n",
        "LIMIT 10"
      ],
      "metadata": {
        "colab": {
          "base_uri": "https://localhost:8080/",
          "height": 182
        },
        "cellView": "form",
        "collapsed": true,
        "id": "MrAD7j3nShCt",
        "outputId": "a2cb9f1d-9a34-4fad-dbab-420c04c67741"
      },
      "execution_count": null,
      "outputs": [
        {
          "output_type": "stream",
          "name": "stdout",
          "text": [
            " * sqlite:///AdventureWorks_Sales.db\n",
            "Done.\n"
          ]
        },
        {
          "output_type": "execute_result",
          "data": {
            "text/plain": [
              "[('11445', '11445', 'Kari Kim', '346', '346', 'Mountain-100 Silver, 44', '20171106', '1', '3399.99'),\n",
              " ('11445', '11445', 'Kari Kim', '359', '359', 'Mountain-200 Black, 38', '20190607', '1', '2294.99'),\n",
              " ('11445', '11445', 'Kari Kim', '478', '478', 'Mountain Bottle Cage', '20190607', '1', '9.99'),\n",
              " ('11445', '11445', 'Kari Kim', '576', '576', 'Touring-1000 Blue, 60', '20191129', '1', '2384.07'),\n",
              " ('11445', '11445', 'Kari Kim', '479', '479', 'Road Bottle Cage', '20191129', '1', '8.99')]"
            ],
            "text/html": [
              "<table>\n",
              "    <thead>\n",
              "        <tr>\n",
              "            <th>CustomerKey</th>\n",
              "            <th>CustomerKey_1</th>\n",
              "            <th>Customer</th>\n",
              "            <th>ProductKey</th>\n",
              "            <th>ProductKey_1</th>\n",
              "            <th>Product</th>\n",
              "            <th>OrderDateKey</th>\n",
              "            <th>Order_Quantity</th>\n",
              "            <th>Sales_Amount</th>\n",
              "        </tr>\n",
              "    </thead>\n",
              "    <tbody>\n",
              "        <tr>\n",
              "            <td>11445</td>\n",
              "            <td>11445</td>\n",
              "            <td>Kari Kim</td>\n",
              "            <td>346</td>\n",
              "            <td>346</td>\n",
              "            <td>Mountain-100 Silver, 44</td>\n",
              "            <td>20171106</td>\n",
              "            <td>1</td>\n",
              "            <td>3399.99</td>\n",
              "        </tr>\n",
              "        <tr>\n",
              "            <td>11445</td>\n",
              "            <td>11445</td>\n",
              "            <td>Kari Kim</td>\n",
              "            <td>359</td>\n",
              "            <td>359</td>\n",
              "            <td>Mountain-200 Black, 38</td>\n",
              "            <td>20190607</td>\n",
              "            <td>1</td>\n",
              "            <td>2294.99</td>\n",
              "        </tr>\n",
              "        <tr>\n",
              "            <td>11445</td>\n",
              "            <td>11445</td>\n",
              "            <td>Kari Kim</td>\n",
              "            <td>478</td>\n",
              "            <td>478</td>\n",
              "            <td>Mountain Bottle Cage</td>\n",
              "            <td>20190607</td>\n",
              "            <td>1</td>\n",
              "            <td>9.99</td>\n",
              "        </tr>\n",
              "        <tr>\n",
              "            <td>11445</td>\n",
              "            <td>11445</td>\n",
              "            <td>Kari Kim</td>\n",
              "            <td>576</td>\n",
              "            <td>576</td>\n",
              "            <td>Touring-1000 Blue, 60</td>\n",
              "            <td>20191129</td>\n",
              "            <td>1</td>\n",
              "            <td>2384.07</td>\n",
              "        </tr>\n",
              "        <tr>\n",
              "            <td>11445</td>\n",
              "            <td>11445</td>\n",
              "            <td>Kari Kim</td>\n",
              "            <td>479</td>\n",
              "            <td>479</td>\n",
              "            <td>Road Bottle Cage</td>\n",
              "            <td>20191129</td>\n",
              "            <td>1</td>\n",
              "            <td>8.99</td>\n",
              "        </tr>\n",
              "    </tbody>\n",
              "</table>"
            ]
          },
          "metadata": {},
          "execution_count": 38
        }
      ]
    },
    {
      "cell_type": "markdown",
      "source": [
        "# Module 5"
      ],
      "metadata": {
        "id": "oV-OxfrdXbiA"
      }
    },
    {
      "cell_type": "markdown",
      "source": [
        "## 1) Subqueries"
      ],
      "metadata": {
        "id": "HcthIwJrXdmI"
      }
    },
    {
      "cell_type": "code",
      "source": [
        "# @title a. Join the Customer and Product tables to the Sales table. Get the sales data for CustomerKey \"11445\" including Customer, Product, OrderDateKey, Order_Quantity, and Sales_Amount. Using this query as subquery, calculate the sum of Order_Quantity and Sales_Amount by OrderDateKey for CustomerKey \"11445\". {\"vertical-output\":true}\n",
        "\n",
        "%%sql\n",
        "SELECT\n",
        "sub.OrderDateKey\n",
        ", SUM(CAST(sub.Order_Quantity AS NUMERIC)) AS Order_Quantity_SUM\n",
        ", SUM(CAST(sub.Sales_Amount AS NUMERIC)) AS Sales_Amount_SUM\n",
        "FROM (\n",
        "  SELECT\n",
        "  s.CustomerKey\n",
        "  , c.CustomerKey\n",
        "  , c.Customer\n",
        "  , s.ProductKey\n",
        "  , p.ProductKey\n",
        "  , p.Product\n",
        "  , s.OrderDateKey\n",
        "  , s.Order_Quantity\n",
        "  , s.Sales_Amount\n",
        "  FROM\n",
        "  Sales AS s\n",
        "  LEFT JOIN\n",
        "  Customer AS c on s.CustomerKey = c.CustomerKey\n",
        "  LEFT JOIN\n",
        "  Product AS p on s.ProductKey = p.ProductKey\n",
        "  WHERE\n",
        "  s.CustomerKey = \"11445\"\n",
        ") sub\n",
        "GROUP BY\n",
        "sub.OrderDateKey\n",
        "LIMIT 10"
      ],
      "metadata": {
        "colab": {
          "base_uri": "https://localhost:8080/",
          "height": 140
        },
        "cellView": "form",
        "collapsed": true,
        "id": "mtMHoqlGXflR",
        "outputId": "b2a30688-27fb-4b42-ee5a-9c481c5964e8"
      },
      "execution_count": null,
      "outputs": [
        {
          "output_type": "stream",
          "name": "stdout",
          "text": [
            " * sqlite:///AdventureWorks_Sales.db\n",
            "Done.\n"
          ]
        },
        {
          "output_type": "execute_result",
          "data": {
            "text/plain": [
              "[('20171106', 1, 3399.99),\n",
              " ('20190607', 2, 2304.9799999999996),\n",
              " ('20191129', 2, 2393.06)]"
            ],
            "text/html": [
              "<table>\n",
              "    <thead>\n",
              "        <tr>\n",
              "            <th>OrderDateKey</th>\n",
              "            <th>Order_Quantity_SUM</th>\n",
              "            <th>Sales_Amount_SUM</th>\n",
              "        </tr>\n",
              "    </thead>\n",
              "    <tbody>\n",
              "        <tr>\n",
              "            <td>20171106</td>\n",
              "            <td>1</td>\n",
              "            <td>3399.99</td>\n",
              "        </tr>\n",
              "        <tr>\n",
              "            <td>20190607</td>\n",
              "            <td>2</td>\n",
              "            <td>2304.9799999999996</td>\n",
              "        </tr>\n",
              "        <tr>\n",
              "            <td>20191129</td>\n",
              "            <td>2</td>\n",
              "            <td>2393.06</td>\n",
              "        </tr>\n",
              "    </tbody>\n",
              "</table>"
            ]
          },
          "metadata": {},
          "execution_count": 39
        }
      ]
    },
    {
      "cell_type": "markdown",
      "source": [
        "# Project"
      ],
      "metadata": {
        "id": "f4FiM65zZJ0A"
      }
    },
    {
      "cell_type": "markdown",
      "source": [
        "## 1) Build a summary table combining key fields from all tables based on the [data model diagram](https://github.com/richardskimco/Training/blob/a58bc36c6e74d2aeb9bf8a10e1aba3c6090fa60d/Data/AdventureWorks%20Sales/Data%20Model%20Diagram.png)."
      ],
      "metadata": {
        "id": "UoO6sJ3AZz7e"
      }
    },
    {
      "cell_type": "code",
      "source": [
        "# @title a. Build a summary table. {\"vertical-output\":true}\n",
        "\n",
        "%%sql\n",
        "SELECT\n",
        "--Sales\n",
        "s.OrderDateKey\n",
        ", s.Order_Quantity\n",
        ", s.Sales_Amount\n",
        "--Sales_Order\n",
        ", so.SalesOrderLineKey\n",
        ", so.Sales_Order\n",
        ", so.Sales_Order_Line\n",
        "--Sales_Territory\n",
        ", st.SalesTerritoryKey\n",
        ", st.Country\n",
        ", st.Region\n",
        "--Reseller\n",
        ", r.ResellerKey\n",
        ", r.Reseller\n",
        ", r.Business_Type\n",
        ", r.City AS Reseller_City\n",
        ", r.State_Province AS Reseller_State_Province\n",
        ", r.Country_Region AS Reseller_Country_Region\n",
        "--Customer\n",
        ", c.CustomerKey\n",
        ", c.Customer\n",
        ", c.City AS Customer_City\n",
        ", c.State_Province AS Customer_State_Province\n",
        ", c.Country_Region AS Customer_Country_Region\n",
        "--Product\n",
        ", p.ProductKey\n",
        ", p.Product\n",
        ", p.Category\n",
        ", p.Subcategory\n",
        ", p.Model\n",
        ", p.Color\n",
        "--Date\n",
        ", d.Date\n",
        "FROM\n",
        "Sales AS s\n",
        "LEFT JOIN\n",
        "Sales_Order AS so ON s.SalesOrderLineKey = so.SalesOrderLineKey\n",
        "LEFT JOIN\n",
        "Sales_Territory AS st ON s.SalesTerritoryKey = st.SalesTerritoryKey\n",
        "LEFT JOIN\n",
        "Customer AS c ON s.CustomerKey = c.CustomerKey\n",
        "LEFT JOIN\n",
        "Product AS p ON s.ProductKey = p.ProductKey\n",
        "LEFT JOIN\n",
        "Reseller AS r ON s.ResellerKey = r.ResellerKey\n",
        "LEFT JOIN\n",
        "Date AS d ON s.OrderDateKey = d.DateKey\n",
        "LIMIT 10"
      ],
      "metadata": {
        "colab": {
          "base_uri": "https://localhost:8080/",
          "height": 707
        },
        "collapsed": true,
        "cellView": "form",
        "id": "ZbdE4SuCZUaj",
        "outputId": "8a9963d6-37ca-41a6-ad09-d0f575cf3128"
      },
      "execution_count": null,
      "outputs": [
        {
          "output_type": "stream",
          "name": "stdout",
          "text": [
            " * sqlite:///AdventureWorks_Sales.db\n",
            "Done.\n"
          ]
        },
        {
          "output_type": "execute_result",
          "data": {
            "text/plain": [
              "[('20170702', '1', '2024.99', '43659001', 'SO43659', 'SO43659 - 1', '5', 'United States', 'Southeast', '676', 'Better Bike Shop', 'Value Added Reseller', 'Austell', 'Georgia', 'United States', '-1', '[Not Applicable]', '[Not Applicable]', '[Not Applicable]', '[Not Applicable]', '349', 'Mountain-100 Black, 42', 'Bikes', 'Mountain Bikes', 'Mountain-100', 'Black', '7/2/2017'),\n",
              " ('20170702', '3', '6074.98', '43659002', 'SO43659', 'SO43659 - 2', '5', 'United States', 'Southeast', '676', 'Better Bike Shop', 'Value Added Reseller', 'Austell', 'Georgia', 'United States', '-1', '[Not Applicable]', '[Not Applicable]', '[Not Applicable]', '[Not Applicable]', '350', 'Mountain-100 Black, 44', 'Bikes', 'Mountain Bikes', 'Mountain-100', 'Black', '7/2/2017'),\n",
              " ('20170702', '1', '2024.99', '43659003', 'SO43659', 'SO43659 - 3', '5', 'United States', 'Southeast', '676', 'Better Bike Shop', 'Value Added Reseller', 'Austell', 'Georgia', 'United States', '-1', '[Not Applicable]', '[Not Applicable]', '[Not Applicable]', '[Not Applicable]', '351', 'Mountain-100 Black, 48', 'Bikes', 'Mountain Bikes', 'Mountain-100', 'Black', '7/2/2017'),\n",
              " ('20170702', '1', '2039.99', '43659004', 'SO43659', 'SO43659 - 4', '5', 'United States', 'Southeast', '676', 'Better Bike Shop', 'Value Added Reseller', 'Austell', 'Georgia', 'United States', '-1', '[Not Applicable]', '[Not Applicable]', '[Not Applicable]', '[Not Applicable]', '344', 'Mountain-100 Silver, 38', 'Bikes', 'Mountain Bikes', 'Mountain-100', 'Silver', '7/2/2017'),\n",
              " ('20170702', '1', '2039.99', '43659005', 'SO43659', 'SO43659 - 5', '5', 'United States', 'Southeast', '676', 'Better Bike Shop', 'Value Added Reseller', 'Austell', 'Georgia', 'United States', '-1', '[Not Applicable]', '[Not Applicable]', '[Not Applicable]', '[Not Applicable]', '345', 'Mountain-100 Silver, 42', 'Bikes', 'Mountain Bikes', 'Mountain-100', 'Silver', '7/2/2017'),\n",
              " ('20170702', '2', '4079.99', '43659006', 'SO43659', 'SO43659 - 6', '5', 'United States', 'Southeast', '676', 'Better Bike Shop', 'Value Added Reseller', 'Austell', 'Georgia', 'United States', '-1', '[Not Applicable]', '[Not Applicable]', '[Not Applicable]', '[Not Applicable]', '346', 'Mountain-100 Silver, 44', 'Bikes', 'Mountain Bikes', 'Mountain-100', 'Silver', '7/2/2017'),\n",
              " ('20170702', '1', '2039.99', '43659007', 'SO43659', 'SO43659 - 7', '5', 'United States', 'Southeast', '676', 'Better Bike Shop', 'Value Added Reseller', 'Austell', 'Georgia', 'United States', '-1', '[Not Applicable]', '[Not Applicable]', '[Not Applicable]', '[Not Applicable]', '347', 'Mountain-100 Silver, 48', 'Bikes', 'Mountain Bikes', 'Mountain-100', 'Silver', '7/2/2017'),\n",
              " ('20170702', '3', '86.52', '43659008', 'SO43659', 'SO43659 - 8', '5', 'United States', 'Southeast', '676', 'Better Bike Shop', 'Value Added Reseller', 'Austell', 'Georgia', 'United States', '-1', '[Not Applicable]', '[Not Applicable]', '[Not Applicable]', '[Not Applicable]', '229', 'Long-Sleeve Logo Jersey, M', 'Clothing', 'Jerseys', 'Long-Sleeve Logo Jersey', 'Multi', '7/2/2017'),\n",
              " ('20170702', '1', '28.84', '43659009', 'SO43659', 'SO43659 - 9', '5', 'United States', 'Southeast', '676', 'Better Bike Shop', 'Value Added Reseller', 'Austell', 'Georgia', 'United States', '-1', '[Not Applicable]', '[Not Applicable]', '[Not Applicable]', '[Not Applicable]', '235', 'Long-Sleeve Logo Jersey, XL', 'Clothing', 'Jerseys', 'Long-Sleeve Logo Jersey', 'Multi', '7/2/2017'),\n",
              " ('20170702', '6', '34.2', '43659010', 'SO43659', 'SO43659 - 10', '5', 'United States', 'Southeast', '676', 'Better Bike Shop', 'Value Added Reseller', 'Austell', 'Georgia', 'United States', '-1', '[Not Applicable]', '[Not Applicable]', '[Not Applicable]', '[Not Applicable]', '218', 'Mountain Bike Socks, M', 'Clothing', 'Socks', 'Mountain Bike Socks', 'White', '7/2/2017')]"
            ],
            "text/html": [
              "<table>\n",
              "    <thead>\n",
              "        <tr>\n",
              "            <th>OrderDateKey</th>\n",
              "            <th>Order_Quantity</th>\n",
              "            <th>Sales_Amount</th>\n",
              "            <th>SalesOrderLineKey</th>\n",
              "            <th>Sales_Order</th>\n",
              "            <th>Sales_Order_Line</th>\n",
              "            <th>SalesTerritoryKey</th>\n",
              "            <th>Country</th>\n",
              "            <th>Region</th>\n",
              "            <th>ResellerKey</th>\n",
              "            <th>Reseller</th>\n",
              "            <th>Business_Type</th>\n",
              "            <th>Reseller_City</th>\n",
              "            <th>Reseller_State_Province</th>\n",
              "            <th>Reseller_Country_Region</th>\n",
              "            <th>CustomerKey</th>\n",
              "            <th>Customer</th>\n",
              "            <th>Customer_City</th>\n",
              "            <th>Customer_State_Province</th>\n",
              "            <th>Customer_Country_Region</th>\n",
              "            <th>ProductKey</th>\n",
              "            <th>Product</th>\n",
              "            <th>Category</th>\n",
              "            <th>Subcategory</th>\n",
              "            <th>Model</th>\n",
              "            <th>Color</th>\n",
              "            <th>Date</th>\n",
              "        </tr>\n",
              "    </thead>\n",
              "    <tbody>\n",
              "        <tr>\n",
              "            <td>20170702</td>\n",
              "            <td>1</td>\n",
              "            <td>2024.99</td>\n",
              "            <td>43659001</td>\n",
              "            <td>SO43659</td>\n",
              "            <td>SO43659 - 1</td>\n",
              "            <td>5</td>\n",
              "            <td>United States</td>\n",
              "            <td>Southeast</td>\n",
              "            <td>676</td>\n",
              "            <td>Better Bike Shop</td>\n",
              "            <td>Value Added Reseller</td>\n",
              "            <td>Austell</td>\n",
              "            <td>Georgia</td>\n",
              "            <td>United States</td>\n",
              "            <td>-1</td>\n",
              "            <td>[Not Applicable]</td>\n",
              "            <td>[Not Applicable]</td>\n",
              "            <td>[Not Applicable]</td>\n",
              "            <td>[Not Applicable]</td>\n",
              "            <td>349</td>\n",
              "            <td>Mountain-100 Black, 42</td>\n",
              "            <td>Bikes</td>\n",
              "            <td>Mountain Bikes</td>\n",
              "            <td>Mountain-100</td>\n",
              "            <td>Black</td>\n",
              "            <td>7/2/2017</td>\n",
              "        </tr>\n",
              "        <tr>\n",
              "            <td>20170702</td>\n",
              "            <td>3</td>\n",
              "            <td>6074.98</td>\n",
              "            <td>43659002</td>\n",
              "            <td>SO43659</td>\n",
              "            <td>SO43659 - 2</td>\n",
              "            <td>5</td>\n",
              "            <td>United States</td>\n",
              "            <td>Southeast</td>\n",
              "            <td>676</td>\n",
              "            <td>Better Bike Shop</td>\n",
              "            <td>Value Added Reseller</td>\n",
              "            <td>Austell</td>\n",
              "            <td>Georgia</td>\n",
              "            <td>United States</td>\n",
              "            <td>-1</td>\n",
              "            <td>[Not Applicable]</td>\n",
              "            <td>[Not Applicable]</td>\n",
              "            <td>[Not Applicable]</td>\n",
              "            <td>[Not Applicable]</td>\n",
              "            <td>350</td>\n",
              "            <td>Mountain-100 Black, 44</td>\n",
              "            <td>Bikes</td>\n",
              "            <td>Mountain Bikes</td>\n",
              "            <td>Mountain-100</td>\n",
              "            <td>Black</td>\n",
              "            <td>7/2/2017</td>\n",
              "        </tr>\n",
              "        <tr>\n",
              "            <td>20170702</td>\n",
              "            <td>1</td>\n",
              "            <td>2024.99</td>\n",
              "            <td>43659003</td>\n",
              "            <td>SO43659</td>\n",
              "            <td>SO43659 - 3</td>\n",
              "            <td>5</td>\n",
              "            <td>United States</td>\n",
              "            <td>Southeast</td>\n",
              "            <td>676</td>\n",
              "            <td>Better Bike Shop</td>\n",
              "            <td>Value Added Reseller</td>\n",
              "            <td>Austell</td>\n",
              "            <td>Georgia</td>\n",
              "            <td>United States</td>\n",
              "            <td>-1</td>\n",
              "            <td>[Not Applicable]</td>\n",
              "            <td>[Not Applicable]</td>\n",
              "            <td>[Not Applicable]</td>\n",
              "            <td>[Not Applicable]</td>\n",
              "            <td>351</td>\n",
              "            <td>Mountain-100 Black, 48</td>\n",
              "            <td>Bikes</td>\n",
              "            <td>Mountain Bikes</td>\n",
              "            <td>Mountain-100</td>\n",
              "            <td>Black</td>\n",
              "            <td>7/2/2017</td>\n",
              "        </tr>\n",
              "        <tr>\n",
              "            <td>20170702</td>\n",
              "            <td>1</td>\n",
              "            <td>2039.99</td>\n",
              "            <td>43659004</td>\n",
              "            <td>SO43659</td>\n",
              "            <td>SO43659 - 4</td>\n",
              "            <td>5</td>\n",
              "            <td>United States</td>\n",
              "            <td>Southeast</td>\n",
              "            <td>676</td>\n",
              "            <td>Better Bike Shop</td>\n",
              "            <td>Value Added Reseller</td>\n",
              "            <td>Austell</td>\n",
              "            <td>Georgia</td>\n",
              "            <td>United States</td>\n",
              "            <td>-1</td>\n",
              "            <td>[Not Applicable]</td>\n",
              "            <td>[Not Applicable]</td>\n",
              "            <td>[Not Applicable]</td>\n",
              "            <td>[Not Applicable]</td>\n",
              "            <td>344</td>\n",
              "            <td>Mountain-100 Silver, 38</td>\n",
              "            <td>Bikes</td>\n",
              "            <td>Mountain Bikes</td>\n",
              "            <td>Mountain-100</td>\n",
              "            <td>Silver</td>\n",
              "            <td>7/2/2017</td>\n",
              "        </tr>\n",
              "        <tr>\n",
              "            <td>20170702</td>\n",
              "            <td>1</td>\n",
              "            <td>2039.99</td>\n",
              "            <td>43659005</td>\n",
              "            <td>SO43659</td>\n",
              "            <td>SO43659 - 5</td>\n",
              "            <td>5</td>\n",
              "            <td>United States</td>\n",
              "            <td>Southeast</td>\n",
              "            <td>676</td>\n",
              "            <td>Better Bike Shop</td>\n",
              "            <td>Value Added Reseller</td>\n",
              "            <td>Austell</td>\n",
              "            <td>Georgia</td>\n",
              "            <td>United States</td>\n",
              "            <td>-1</td>\n",
              "            <td>[Not Applicable]</td>\n",
              "            <td>[Not Applicable]</td>\n",
              "            <td>[Not Applicable]</td>\n",
              "            <td>[Not Applicable]</td>\n",
              "            <td>345</td>\n",
              "            <td>Mountain-100 Silver, 42</td>\n",
              "            <td>Bikes</td>\n",
              "            <td>Mountain Bikes</td>\n",
              "            <td>Mountain-100</td>\n",
              "            <td>Silver</td>\n",
              "            <td>7/2/2017</td>\n",
              "        </tr>\n",
              "        <tr>\n",
              "            <td>20170702</td>\n",
              "            <td>2</td>\n",
              "            <td>4079.99</td>\n",
              "            <td>43659006</td>\n",
              "            <td>SO43659</td>\n",
              "            <td>SO43659 - 6</td>\n",
              "            <td>5</td>\n",
              "            <td>United States</td>\n",
              "            <td>Southeast</td>\n",
              "            <td>676</td>\n",
              "            <td>Better Bike Shop</td>\n",
              "            <td>Value Added Reseller</td>\n",
              "            <td>Austell</td>\n",
              "            <td>Georgia</td>\n",
              "            <td>United States</td>\n",
              "            <td>-1</td>\n",
              "            <td>[Not Applicable]</td>\n",
              "            <td>[Not Applicable]</td>\n",
              "            <td>[Not Applicable]</td>\n",
              "            <td>[Not Applicable]</td>\n",
              "            <td>346</td>\n",
              "            <td>Mountain-100 Silver, 44</td>\n",
              "            <td>Bikes</td>\n",
              "            <td>Mountain Bikes</td>\n",
              "            <td>Mountain-100</td>\n",
              "            <td>Silver</td>\n",
              "            <td>7/2/2017</td>\n",
              "        </tr>\n",
              "        <tr>\n",
              "            <td>20170702</td>\n",
              "            <td>1</td>\n",
              "            <td>2039.99</td>\n",
              "            <td>43659007</td>\n",
              "            <td>SO43659</td>\n",
              "            <td>SO43659 - 7</td>\n",
              "            <td>5</td>\n",
              "            <td>United States</td>\n",
              "            <td>Southeast</td>\n",
              "            <td>676</td>\n",
              "            <td>Better Bike Shop</td>\n",
              "            <td>Value Added Reseller</td>\n",
              "            <td>Austell</td>\n",
              "            <td>Georgia</td>\n",
              "            <td>United States</td>\n",
              "            <td>-1</td>\n",
              "            <td>[Not Applicable]</td>\n",
              "            <td>[Not Applicable]</td>\n",
              "            <td>[Not Applicable]</td>\n",
              "            <td>[Not Applicable]</td>\n",
              "            <td>347</td>\n",
              "            <td>Mountain-100 Silver, 48</td>\n",
              "            <td>Bikes</td>\n",
              "            <td>Mountain Bikes</td>\n",
              "            <td>Mountain-100</td>\n",
              "            <td>Silver</td>\n",
              "            <td>7/2/2017</td>\n",
              "        </tr>\n",
              "        <tr>\n",
              "            <td>20170702</td>\n",
              "            <td>3</td>\n",
              "            <td>86.52</td>\n",
              "            <td>43659008</td>\n",
              "            <td>SO43659</td>\n",
              "            <td>SO43659 - 8</td>\n",
              "            <td>5</td>\n",
              "            <td>United States</td>\n",
              "            <td>Southeast</td>\n",
              "            <td>676</td>\n",
              "            <td>Better Bike Shop</td>\n",
              "            <td>Value Added Reseller</td>\n",
              "            <td>Austell</td>\n",
              "            <td>Georgia</td>\n",
              "            <td>United States</td>\n",
              "            <td>-1</td>\n",
              "            <td>[Not Applicable]</td>\n",
              "            <td>[Not Applicable]</td>\n",
              "            <td>[Not Applicable]</td>\n",
              "            <td>[Not Applicable]</td>\n",
              "            <td>229</td>\n",
              "            <td>Long-Sleeve Logo Jersey, M</td>\n",
              "            <td>Clothing</td>\n",
              "            <td>Jerseys</td>\n",
              "            <td>Long-Sleeve Logo Jersey</td>\n",
              "            <td>Multi</td>\n",
              "            <td>7/2/2017</td>\n",
              "        </tr>\n",
              "        <tr>\n",
              "            <td>20170702</td>\n",
              "            <td>1</td>\n",
              "            <td>28.84</td>\n",
              "            <td>43659009</td>\n",
              "            <td>SO43659</td>\n",
              "            <td>SO43659 - 9</td>\n",
              "            <td>5</td>\n",
              "            <td>United States</td>\n",
              "            <td>Southeast</td>\n",
              "            <td>676</td>\n",
              "            <td>Better Bike Shop</td>\n",
              "            <td>Value Added Reseller</td>\n",
              "            <td>Austell</td>\n",
              "            <td>Georgia</td>\n",
              "            <td>United States</td>\n",
              "            <td>-1</td>\n",
              "            <td>[Not Applicable]</td>\n",
              "            <td>[Not Applicable]</td>\n",
              "            <td>[Not Applicable]</td>\n",
              "            <td>[Not Applicable]</td>\n",
              "            <td>235</td>\n",
              "            <td>Long-Sleeve Logo Jersey, XL</td>\n",
              "            <td>Clothing</td>\n",
              "            <td>Jerseys</td>\n",
              "            <td>Long-Sleeve Logo Jersey</td>\n",
              "            <td>Multi</td>\n",
              "            <td>7/2/2017</td>\n",
              "        </tr>\n",
              "        <tr>\n",
              "            <td>20170702</td>\n",
              "            <td>6</td>\n",
              "            <td>34.2</td>\n",
              "            <td>43659010</td>\n",
              "            <td>SO43659</td>\n",
              "            <td>SO43659 - 10</td>\n",
              "            <td>5</td>\n",
              "            <td>United States</td>\n",
              "            <td>Southeast</td>\n",
              "            <td>676</td>\n",
              "            <td>Better Bike Shop</td>\n",
              "            <td>Value Added Reseller</td>\n",
              "            <td>Austell</td>\n",
              "            <td>Georgia</td>\n",
              "            <td>United States</td>\n",
              "            <td>-1</td>\n",
              "            <td>[Not Applicable]</td>\n",
              "            <td>[Not Applicable]</td>\n",
              "            <td>[Not Applicable]</td>\n",
              "            <td>[Not Applicable]</td>\n",
              "            <td>218</td>\n",
              "            <td>Mountain Bike Socks, M</td>\n",
              "            <td>Clothing</td>\n",
              "            <td>Socks</td>\n",
              "            <td>Mountain Bike Socks</td>\n",
              "            <td>White</td>\n",
              "            <td>7/2/2017</td>\n",
              "        </tr>\n",
              "    </tbody>\n",
              "</table>"
            ]
          },
          "metadata": {},
          "execution_count": 40
        }
      ]
    },
    {
      "cell_type": "markdown",
      "source": [
        "## 2) Using the summary table as subquery, build views visualizing the sales data and write summaries analyzing the questions below."
      ],
      "metadata": {
        "id": "0F5yLSzCZqSX"
      }
    },
    {
      "cell_type": "code",
      "source": [
        "# @title a. Sales Amount by Order Date - Which day had the most sales in February 2019? {\"vertical-output\":true}\n",
        "\n",
        "%%sql\n",
        "SELECT\n",
        "summary.OrderDateKey\n",
        ", SUM(CAST(summary.Sales_Amount AS NUMERIC)) AS Sales_Amount_SUM\n",
        "FROM (\n",
        "  SELECT\n",
        "  --Sales\n",
        "  s.OrderDateKey\n",
        "  , s.Order_Quantity\n",
        "  , s.Sales_Amount\n",
        "  --Sales_Order\n",
        "  , so.SalesOrderLineKey\n",
        "  , so.Sales_Order\n",
        "  , so.Sales_Order_Line\n",
        "  --Sales_Territory\n",
        "  , st.SalesTerritoryKey\n",
        "  , st.Country\n",
        "  , st.Region\n",
        "  --Reseller\n",
        "  , r.ResellerKey\n",
        "  , r.Reseller\n",
        "  , r.Business_Type\n",
        "  , r.City AS Reseller_City\n",
        "  , r.State_Province AS Reseller_State_Province\n",
        "  , r.Country_Region AS Reseller_Country_Region\n",
        "  --Customer\n",
        "  , c.CustomerKey\n",
        "  , c.Customer\n",
        "  , c.City AS Customer_City\n",
        "  , c.State_Province AS Customer_State_Province\n",
        "  , c.Country_Region AS Customer_Country_Region\n",
        "  --Product\n",
        "  , p.ProductKey\n",
        "  , p.Product\n",
        "  , p.Category\n",
        "  , p.Subcategory\n",
        "  , p.Model\n",
        "  , p.Color\n",
        "  --Date\n",
        "  , d.Date\n",
        "  FROM\n",
        "  Sales AS s\n",
        "  LEFT JOIN\n",
        "  Sales_Order AS so ON s.SalesOrderLineKey = so.SalesOrderLineKey\n",
        "  LEFT JOIN\n",
        "  Sales_Territory AS st ON s.SalesTerritoryKey = st.SalesTerritoryKey\n",
        "  LEFT JOIN\n",
        "  Customer AS c ON s.CustomerKey = c.CustomerKey\n",
        "  LEFT JOIN\n",
        "  Product AS p ON s.ProductKey = p.ProductKey\n",
        "  LEFT JOIN\n",
        "  Reseller AS r ON s.ResellerKey = r.ResellerKey\n",
        "  LEFT JOIN\n",
        "  Date AS d ON s.OrderDateKey = d.DateKey\n",
        ") summary\n",
        "WHERE\n",
        "(summary.OrderDateKey >= '20190201' AND summary.OrderDateKey <= '20190228')\n",
        "GROUP BY\n",
        "summary.OrderDateKey\n",
        "ORDER BY\n",
        "Sales_Amount_SUM DESC\n",
        "LIMIT 10"
      ],
      "metadata": {
        "colab": {
          "base_uri": "https://localhost:8080/",
          "height": 288
        },
        "collapsed": true,
        "cellView": "form",
        "id": "s86T0qwPaOCm",
        "outputId": "899e1048-459f-4995-f457-e2178bdf8243"
      },
      "execution_count": null,
      "outputs": [
        {
          "output_type": "stream",
          "name": "stdout",
          "text": [
            " * sqlite:///AdventureWorks_Sales.db\n",
            "Done.\n"
          ]
        },
        {
          "output_type": "execute_result",
          "data": {
            "text/plain": [
              "[('20190225', 253915.44999999992),\n",
              " ('20190212', 230339.13000000006),\n",
              " ('20190228', 166175.07999999993),\n",
              " ('20190220', 162956.99),\n",
              " ('20190203', 153861.19999999998),\n",
              " ('20190211', 143003.67999999993),\n",
              " ('20190208', 140833.53),\n",
              " ('20190227', 138317.25000000003),\n",
              " ('20190217', 135745.72999999995),\n",
              " ('20190215', 123161.62)]"
            ],
            "text/html": [
              "<table>\n",
              "    <thead>\n",
              "        <tr>\n",
              "            <th>OrderDateKey</th>\n",
              "            <th>Sales_Amount_SUM</th>\n",
              "        </tr>\n",
              "    </thead>\n",
              "    <tbody>\n",
              "        <tr>\n",
              "            <td>20190225</td>\n",
              "            <td>253915.44999999992</td>\n",
              "        </tr>\n",
              "        <tr>\n",
              "            <td>20190212</td>\n",
              "            <td>230339.13000000006</td>\n",
              "        </tr>\n",
              "        <tr>\n",
              "            <td>20190228</td>\n",
              "            <td>166175.07999999993</td>\n",
              "        </tr>\n",
              "        <tr>\n",
              "            <td>20190220</td>\n",
              "            <td>162956.99</td>\n",
              "        </tr>\n",
              "        <tr>\n",
              "            <td>20190203</td>\n",
              "            <td>153861.19999999998</td>\n",
              "        </tr>\n",
              "        <tr>\n",
              "            <td>20190211</td>\n",
              "            <td>143003.67999999993</td>\n",
              "        </tr>\n",
              "        <tr>\n",
              "            <td>20190208</td>\n",
              "            <td>140833.53</td>\n",
              "        </tr>\n",
              "        <tr>\n",
              "            <td>20190227</td>\n",
              "            <td>138317.25000000003</td>\n",
              "        </tr>\n",
              "        <tr>\n",
              "            <td>20190217</td>\n",
              "            <td>135745.72999999995</td>\n",
              "        </tr>\n",
              "        <tr>\n",
              "            <td>20190215</td>\n",
              "            <td>123161.62</td>\n",
              "        </tr>\n",
              "    </tbody>\n",
              "</table>"
            ]
          },
          "metadata": {},
          "execution_count": 41
        }
      ]
    },
    {
      "cell_type": "code",
      "source": [
        "# @title b. Order Quantity by Reseller Country/Region - Which country/region had the most orders in February 2019? {\"vertical-output\":true}\n",
        "\n",
        "%%sql\n",
        "SELECT\n",
        "summary.Reseller_Country_Region\n",
        ", SUM(CAST(summary.Order_Quantity AS NUMERIC)) AS Order_Quantity_SUM\n",
        "FROM (\n",
        "  SELECT\n",
        "  --Sales\n",
        "  s.OrderDateKey\n",
        "  , s.Order_Quantity\n",
        "  , s.Sales_Amount\n",
        "  --Sales_Order\n",
        "  , so.SalesOrderLineKey\n",
        "  , so.Sales_Order\n",
        "  , so.Sales_Order_Line\n",
        "  --Sales_Territory\n",
        "  , st.SalesTerritoryKey\n",
        "  , st.Country\n",
        "  , st.Region\n",
        "  --Reseller\n",
        "  , r.ResellerKey\n",
        "  , r.Reseller\n",
        "  , r.Business_Type\n",
        "  , r.City AS Reseller_City\n",
        "  , r.State_Province AS Reseller_State_Province\n",
        "  , r.Country_Region AS Reseller_Country_Region\n",
        "  --Customer\n",
        "  , c.CustomerKey\n",
        "  , c.Customer\n",
        "  , c.City AS Customer_City\n",
        "  , c.State_Province AS Customer_State_Province\n",
        "  , c.Country_Region AS Customer_Country_Region\n",
        "  --Product\n",
        "  , p.ProductKey\n",
        "  , p.Product\n",
        "  , p.Category\n",
        "  , p.Subcategory\n",
        "  , p.Model\n",
        "  , p.Color\n",
        "  --Date\n",
        "  , d.Date\n",
        "  FROM\n",
        "  Sales AS s\n",
        "  LEFT JOIN\n",
        "  Sales_Order AS so ON s.SalesOrderLineKey = so.SalesOrderLineKey\n",
        "  LEFT JOIN\n",
        "  Sales_Territory AS st ON s.SalesTerritoryKey = st.SalesTerritoryKey\n",
        "  LEFT JOIN\n",
        "  Customer AS c ON s.CustomerKey = c.CustomerKey\n",
        "  LEFT JOIN\n",
        "  Product AS p ON s.ProductKey = p.ProductKey\n",
        "  LEFT JOIN\n",
        "  Reseller AS r ON s.ResellerKey = r.ResellerKey\n",
        "  LEFT JOIN\n",
        "  Date AS d ON s.OrderDateKey = d.DateKey\n",
        ") summary\n",
        "WHERE\n",
        "(summary.OrderDateKey >= '20190201' AND summary.OrderDateKey <= '20190228')\n",
        "GROUP BY\n",
        "summary.Reseller_Country_Region\n",
        "ORDER BY\n",
        "Order_Quantity_SUM DESC\n",
        "LIMIT 10"
      ],
      "metadata": {
        "colab": {
          "base_uri": "https://localhost:8080/",
          "height": 182
        },
        "collapsed": true,
        "cellView": "form",
        "id": "tIT1AxD_bf9T",
        "outputId": "d8ace650-37d2-47bb-babc-f5919a70d38e"
      },
      "execution_count": null,
      "outputs": [
        {
          "output_type": "stream",
          "name": "stdout",
          "text": [
            " * sqlite:///AdventureWorks_Sales.db\n",
            "Done.\n"
          ]
        },
        {
          "output_type": "execute_result",
          "data": {
            "text/plain": [
              "[('United States', 3579),\n",
              " ('Canada', 917),\n",
              " ('France', 394),\n",
              " ('United Kingdom', 269),\n",
              " ('[Not Applicable]', 246)]"
            ],
            "text/html": [
              "<table>\n",
              "    <thead>\n",
              "        <tr>\n",
              "            <th>Reseller_Country_Region</th>\n",
              "            <th>Order_Quantity_SUM</th>\n",
              "        </tr>\n",
              "    </thead>\n",
              "    <tbody>\n",
              "        <tr>\n",
              "            <td>United States</td>\n",
              "            <td>3579</td>\n",
              "        </tr>\n",
              "        <tr>\n",
              "            <td>Canada</td>\n",
              "            <td>917</td>\n",
              "        </tr>\n",
              "        <tr>\n",
              "            <td>France</td>\n",
              "            <td>394</td>\n",
              "        </tr>\n",
              "        <tr>\n",
              "            <td>United Kingdom</td>\n",
              "            <td>269</td>\n",
              "        </tr>\n",
              "        <tr>\n",
              "            <td>[Not Applicable]</td>\n",
              "            <td>246</td>\n",
              "        </tr>\n",
              "    </tbody>\n",
              "</table>"
            ]
          },
          "metadata": {},
          "execution_count": 42
        }
      ]
    },
    {
      "cell_type": "code",
      "source": [
        "# @title c. Sales Amount by Product Category and Reseller Business Type - Which product category and reseller business type should the company continue to invest in February 2019? {\"vertical-output\":true}\n",
        "\n",
        "%%sql\n",
        "SELECT\n",
        "summary.Category\n",
        ", summary.Business_Type\n",
        ", SUM(CAST(summary.Sales_Amount AS NUMERIC)) AS Sales_Amount_SUM\n",
        "FROM (\n",
        "  SELECT\n",
        "  --Sales\n",
        "  s.OrderDateKey\n",
        "  , s.Order_Quantity\n",
        "  , s.Sales_Amount\n",
        "  --Sales_Order\n",
        "  , so.SalesOrderLineKey\n",
        "  , so.Sales_Order\n",
        "  , so.Sales_Order_Line\n",
        "  --Sales_Territory\n",
        "  , st.SalesTerritoryKey\n",
        "  , st.Country\n",
        "  , st.Region\n",
        "  --Reseller\n",
        "  , r.ResellerKey\n",
        "  , r.Reseller\n",
        "  , r.Business_Type\n",
        "  , r.City AS Reseller_City\n",
        "  , r.State_Province AS Reseller_State_Province\n",
        "  , r.Country_Region AS Reseller_Country_Region\n",
        "  --Customer\n",
        "  , c.CustomerKey\n",
        "  , c.Customer\n",
        "  , c.City AS Customer_City\n",
        "  , c.State_Province AS Customer_State_Province\n",
        "  , c.Country_Region AS Customer_Country_Region\n",
        "  --Product\n",
        "  , p.ProductKey\n",
        "  , p.Product\n",
        "  , p.Category\n",
        "  , p.Subcategory\n",
        "  , p.Model\n",
        "  , p.Color\n",
        "  --Date\n",
        "  , d.Date\n",
        "  FROM\n",
        "  Sales AS s\n",
        "  LEFT JOIN\n",
        "  Sales_Order AS so ON s.SalesOrderLineKey = so.SalesOrderLineKey\n",
        "  LEFT JOIN\n",
        "  Sales_Territory AS st ON s.SalesTerritoryKey = st.SalesTerritoryKey\n",
        "  LEFT JOIN\n",
        "  Customer AS c ON s.CustomerKey = c.CustomerKey\n",
        "  LEFT JOIN\n",
        "  Product AS p ON s.ProductKey = p.ProductKey\n",
        "  LEFT JOIN\n",
        "  Reseller AS r ON s.ResellerKey = r.ResellerKey\n",
        "  LEFT JOIN\n",
        "  Date AS d ON s.OrderDateKey = d.DateKey\n",
        ") summary\n",
        "WHERE\n",
        "(summary.OrderDateKey >= '20190201' AND summary.OrderDateKey <= '20190228')\n",
        "GROUP BY\n",
        "summary.Category\n",
        ", summary.Business_Type\n",
        "ORDER BY\n",
        "Sales_Amount_SUM DESC\n",
        "LIMIT 10"
      ],
      "metadata": {
        "colab": {
          "base_uri": "https://localhost:8080/",
          "height": 288
        },
        "collapsed": true,
        "cellView": "form",
        "id": "Y1an6Bw7bfvv",
        "outputId": "3d61ceff-858e-4bad-bb0e-f616aa51ba7a"
      },
      "execution_count": null,
      "outputs": [
        {
          "output_type": "stream",
          "name": "stdout",
          "text": [
            " * sqlite:///AdventureWorks_Sales.db\n",
            "Done.\n"
          ]
        },
        {
          "output_type": "execute_result",
          "data": {
            "text/plain": [
              "[('Bikes', 'Value Added Reseller', 1407525.22),\n",
              " ('Bikes', 'Warehouse', 587282.7899999995),\n",
              " ('Bikes', '[Not Applicable]', 444515.0999999989),\n",
              " ('Bikes', 'Specialty Bike Shop', 159560.31999999995),\n",
              " ('Components', 'Warehouse', 157917.25),\n",
              " ('Components', 'Value Added Reseller', 25314.389999999996),\n",
              " ('Clothing', 'Warehouse', 25177.480000000025),\n",
              " ('Clothing', 'Value Added Reseller', 13634.089999999991),\n",
              " ('Accessories', 'Warehouse', 4472.999999999999),\n",
              " ('Clothing', 'Specialty Bike Shop', 2871.99)]"
            ],
            "text/html": [
              "<table>\n",
              "    <thead>\n",
              "        <tr>\n",
              "            <th>Category</th>\n",
              "            <th>Business_Type</th>\n",
              "            <th>Sales_Amount_SUM</th>\n",
              "        </tr>\n",
              "    </thead>\n",
              "    <tbody>\n",
              "        <tr>\n",
              "            <td>Bikes</td>\n",
              "            <td>Value Added Reseller</td>\n",
              "            <td>1407525.22</td>\n",
              "        </tr>\n",
              "        <tr>\n",
              "            <td>Bikes</td>\n",
              "            <td>Warehouse</td>\n",
              "            <td>587282.7899999995</td>\n",
              "        </tr>\n",
              "        <tr>\n",
              "            <td>Bikes</td>\n",
              "            <td>[Not Applicable]</td>\n",
              "            <td>444515.0999999989</td>\n",
              "        </tr>\n",
              "        <tr>\n",
              "            <td>Bikes</td>\n",
              "            <td>Specialty Bike Shop</td>\n",
              "            <td>159560.31999999995</td>\n",
              "        </tr>\n",
              "        <tr>\n",
              "            <td>Components</td>\n",
              "            <td>Warehouse</td>\n",
              "            <td>157917.25</td>\n",
              "        </tr>\n",
              "        <tr>\n",
              "            <td>Components</td>\n",
              "            <td>Value Added Reseller</td>\n",
              "            <td>25314.389999999996</td>\n",
              "        </tr>\n",
              "        <tr>\n",
              "            <td>Clothing</td>\n",
              "            <td>Warehouse</td>\n",
              "            <td>25177.480000000025</td>\n",
              "        </tr>\n",
              "        <tr>\n",
              "            <td>Clothing</td>\n",
              "            <td>Value Added Reseller</td>\n",
              "            <td>13634.089999999991</td>\n",
              "        </tr>\n",
              "        <tr>\n",
              "            <td>Accessories</td>\n",
              "            <td>Warehouse</td>\n",
              "            <td>4472.999999999999</td>\n",
              "        </tr>\n",
              "        <tr>\n",
              "            <td>Clothing</td>\n",
              "            <td>Specialty Bike Shop</td>\n",
              "            <td>2871.99</td>\n",
              "        </tr>\n",
              "    </tbody>\n",
              "</table>"
            ]
          },
          "metadata": {},
          "execution_count": 43
        }
      ]
    },
    {
      "cell_type": "markdown",
      "source": [
        "## 3) (Optional) Using the summary table and its views, build a report visualizing the sales data."
      ],
      "metadata": {
        "id": "pIrqCShLdMAF"
      }
    }
  ]
}